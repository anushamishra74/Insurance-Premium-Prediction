{
 "cells": [
  {
   "cell_type": "markdown",
   "id": "ab0b002a",
   "metadata": {},
   "source": [
    "# Required Libraries"
   ]
  },
  {
   "cell_type": "code",
   "execution_count": 3,
   "id": "9d4e1b08",
   "metadata": {},
   "outputs": [],
   "source": [
    "# importing required libraries\n",
    "import pandas as pd\n",
    "import numpy as np\n",
    "import matplotlib.pyplot as plt\n",
    "import seaborn as sns\n",
    "\n",
    "# warnings\n",
    "import warnings\n",
    "warnings.filterwarnings('ignore')\n",
    "\n",
    "# Sklearn \n",
    "from sklearn.model_selection import train_test_split\n",
    "from sklearn.preprocessing import StandardScaler\n",
    "from sklearn.linear_model import LinearRegression\n",
    "from sklearn.tree import DecisionTreeRegressor\n",
    "from sklearn.ensemble import RandomForestRegressor\n",
    "from sklearn.metrics import mean_squared_error, mean_absolute_error, r2_score"
   ]
  },
  {
   "cell_type": "markdown",
   "id": "dba4bb07",
   "metadata": {},
   "source": [
    "# Data Exploration"
   ]
  },
  {
   "cell_type": "code",
   "execution_count": 4,
   "id": "61ce45dd",
   "metadata": {},
   "outputs": [
    {
     "data": {
      "text/html": [
       "<div>\n",
       "<style scoped>\n",
       "    .dataframe tbody tr th:only-of-type {\n",
       "        vertical-align: middle;\n",
       "    }\n",
       "\n",
       "    .dataframe tbody tr th {\n",
       "        vertical-align: top;\n",
       "    }\n",
       "\n",
       "    .dataframe thead th {\n",
       "        text-align: right;\n",
       "    }\n",
       "</style>\n",
       "<table border=\"1\" class=\"dataframe\">\n",
       "  <thead>\n",
       "    <tr style=\"text-align: right;\">\n",
       "      <th></th>\n",
       "      <th>age</th>\n",
       "      <th>sex</th>\n",
       "      <th>bmi</th>\n",
       "      <th>children</th>\n",
       "      <th>smoker</th>\n",
       "      <th>region</th>\n",
       "      <th>expenses</th>\n",
       "    </tr>\n",
       "  </thead>\n",
       "  <tbody>\n",
       "    <tr>\n",
       "      <th>0</th>\n",
       "      <td>19</td>\n",
       "      <td>female</td>\n",
       "      <td>27.9</td>\n",
       "      <td>0</td>\n",
       "      <td>yes</td>\n",
       "      <td>southwest</td>\n",
       "      <td>16884.92</td>\n",
       "    </tr>\n",
       "    <tr>\n",
       "      <th>1</th>\n",
       "      <td>18</td>\n",
       "      <td>male</td>\n",
       "      <td>33.8</td>\n",
       "      <td>1</td>\n",
       "      <td>no</td>\n",
       "      <td>southeast</td>\n",
       "      <td>1725.55</td>\n",
       "    </tr>\n",
       "    <tr>\n",
       "      <th>2</th>\n",
       "      <td>28</td>\n",
       "      <td>male</td>\n",
       "      <td>33.0</td>\n",
       "      <td>3</td>\n",
       "      <td>no</td>\n",
       "      <td>southeast</td>\n",
       "      <td>4449.46</td>\n",
       "    </tr>\n",
       "    <tr>\n",
       "      <th>3</th>\n",
       "      <td>33</td>\n",
       "      <td>male</td>\n",
       "      <td>22.7</td>\n",
       "      <td>0</td>\n",
       "      <td>no</td>\n",
       "      <td>northwest</td>\n",
       "      <td>21984.47</td>\n",
       "    </tr>\n",
       "    <tr>\n",
       "      <th>4</th>\n",
       "      <td>32</td>\n",
       "      <td>male</td>\n",
       "      <td>28.9</td>\n",
       "      <td>0</td>\n",
       "      <td>no</td>\n",
       "      <td>northwest</td>\n",
       "      <td>3866.86</td>\n",
       "    </tr>\n",
       "  </tbody>\n",
       "</table>\n",
       "</div>"
      ],
      "text/plain": [
       "   age     sex   bmi  children smoker     region  expenses\n",
       "0   19  female  27.9         0    yes  southwest  16884.92\n",
       "1   18    male  33.8         1     no  southeast   1725.55\n",
       "2   28    male  33.0         3     no  southeast   4449.46\n",
       "3   33    male  22.7         0     no  northwest  21984.47\n",
       "4   32    male  28.9         0     no  northwest   3866.86"
      ]
     },
     "execution_count": 4,
     "metadata": {},
     "output_type": "execute_result"
    }
   ],
   "source": [
    "# reading dataset\n",
    "premium = pd.read_csv('insurance.csv')\n",
    "\n",
    "# this shows first 5 rows by default\n",
    "premium.head()"
   ]
  },
  {
   "cell_type": "code",
   "execution_count": 5,
   "id": "6d475bf6",
   "metadata": {},
   "outputs": [
    {
     "data": {
      "text/html": [
       "<div>\n",
       "<style scoped>\n",
       "    .dataframe tbody tr th:only-of-type {\n",
       "        vertical-align: middle;\n",
       "    }\n",
       "\n",
       "    .dataframe tbody tr th {\n",
       "        vertical-align: top;\n",
       "    }\n",
       "\n",
       "    .dataframe thead th {\n",
       "        text-align: right;\n",
       "    }\n",
       "</style>\n",
       "<table border=\"1\" class=\"dataframe\">\n",
       "  <thead>\n",
       "    <tr style=\"text-align: right;\">\n",
       "      <th></th>\n",
       "      <th>age</th>\n",
       "      <th>sex</th>\n",
       "      <th>bmi</th>\n",
       "      <th>children</th>\n",
       "      <th>smoker</th>\n",
       "      <th>region</th>\n",
       "      <th>expenses</th>\n",
       "    </tr>\n",
       "  </thead>\n",
       "  <tbody>\n",
       "    <tr>\n",
       "      <th>1333</th>\n",
       "      <td>50</td>\n",
       "      <td>male</td>\n",
       "      <td>31.0</td>\n",
       "      <td>3</td>\n",
       "      <td>no</td>\n",
       "      <td>northwest</td>\n",
       "      <td>10600.55</td>\n",
       "    </tr>\n",
       "    <tr>\n",
       "      <th>1334</th>\n",
       "      <td>18</td>\n",
       "      <td>female</td>\n",
       "      <td>31.9</td>\n",
       "      <td>0</td>\n",
       "      <td>no</td>\n",
       "      <td>northeast</td>\n",
       "      <td>2205.98</td>\n",
       "    </tr>\n",
       "    <tr>\n",
       "      <th>1335</th>\n",
       "      <td>18</td>\n",
       "      <td>female</td>\n",
       "      <td>36.9</td>\n",
       "      <td>0</td>\n",
       "      <td>no</td>\n",
       "      <td>southeast</td>\n",
       "      <td>1629.83</td>\n",
       "    </tr>\n",
       "    <tr>\n",
       "      <th>1336</th>\n",
       "      <td>21</td>\n",
       "      <td>female</td>\n",
       "      <td>25.8</td>\n",
       "      <td>0</td>\n",
       "      <td>no</td>\n",
       "      <td>southwest</td>\n",
       "      <td>2007.95</td>\n",
       "    </tr>\n",
       "    <tr>\n",
       "      <th>1337</th>\n",
       "      <td>61</td>\n",
       "      <td>female</td>\n",
       "      <td>29.1</td>\n",
       "      <td>0</td>\n",
       "      <td>yes</td>\n",
       "      <td>northwest</td>\n",
       "      <td>29141.36</td>\n",
       "    </tr>\n",
       "  </tbody>\n",
       "</table>\n",
       "</div>"
      ],
      "text/plain": [
       "      age     sex   bmi  children smoker     region  expenses\n",
       "1333   50    male  31.0         3     no  northwest  10600.55\n",
       "1334   18  female  31.9         0     no  northeast   2205.98\n",
       "1335   18  female  36.9         0     no  southeast   1629.83\n",
       "1336   21  female  25.8         0     no  southwest   2007.95\n",
       "1337   61  female  29.1         0    yes  northwest  29141.36"
      ]
     },
     "execution_count": 5,
     "metadata": {},
     "output_type": "execute_result"
    }
   ],
   "source": [
    "# this shows last 5 rows by default\n",
    "premium.tail()"
   ]
  },
  {
   "cell_type": "code",
   "execution_count": 6,
   "id": "763211ba",
   "metadata": {},
   "outputs": [
    {
     "data": {
      "text/plain": [
       "(1338, 7)"
      ]
     },
     "execution_count": 6,
     "metadata": {},
     "output_type": "execute_result"
    }
   ],
   "source": [
    "# getting dimensions of the dataset\n",
    "premium.shape"
   ]
  },
  {
   "cell_type": "code",
   "execution_count": 7,
   "id": "0330c59b",
   "metadata": {},
   "outputs": [
    {
     "data": {
      "text/plain": [
       "age           int64\n",
       "sex          object\n",
       "bmi         float64\n",
       "children      int64\n",
       "smoker       object\n",
       "region       object\n",
       "expenses    float64\n",
       "dtype: object"
      ]
     },
     "execution_count": 7,
     "metadata": {},
     "output_type": "execute_result"
    }
   ],
   "source": [
    "# getting data types \n",
    "premium.dtypes"
   ]
  },
  {
   "cell_type": "code",
   "execution_count": 8,
   "id": "54f533bc",
   "metadata": {},
   "outputs": [
    {
     "name": "stdout",
     "output_type": "stream",
     "text": [
      "<class 'pandas.core.frame.DataFrame'>\n",
      "RangeIndex: 1338 entries, 0 to 1337\n",
      "Data columns (total 7 columns):\n",
      " #   Column    Non-Null Count  Dtype  \n",
      "---  ------    --------------  -----  \n",
      " 0   age       1338 non-null   int64  \n",
      " 1   sex       1338 non-null   object \n",
      " 2   bmi       1338 non-null   float64\n",
      " 3   children  1338 non-null   int64  \n",
      " 4   smoker    1338 non-null   object \n",
      " 5   region    1338 non-null   object \n",
      " 6   expenses  1338 non-null   float64\n",
      "dtypes: float64(2), int64(2), object(3)\n",
      "memory usage: 73.3+ KB\n"
     ]
    }
   ],
   "source": [
    "# getting additional information of the dataset\n",
    "premium.info()"
   ]
  },
  {
   "cell_type": "code",
   "execution_count": 9,
   "id": "9d0245b8",
   "metadata": {},
   "outputs": [
    {
     "data": {
      "text/html": [
       "<div>\n",
       "<style scoped>\n",
       "    .dataframe tbody tr th:only-of-type {\n",
       "        vertical-align: middle;\n",
       "    }\n",
       "\n",
       "    .dataframe tbody tr th {\n",
       "        vertical-align: top;\n",
       "    }\n",
       "\n",
       "    .dataframe thead th {\n",
       "        text-align: right;\n",
       "    }\n",
       "</style>\n",
       "<table border=\"1\" class=\"dataframe\">\n",
       "  <thead>\n",
       "    <tr style=\"text-align: right;\">\n",
       "      <th></th>\n",
       "      <th>age</th>\n",
       "      <th>bmi</th>\n",
       "      <th>children</th>\n",
       "      <th>expenses</th>\n",
       "    </tr>\n",
       "  </thead>\n",
       "  <tbody>\n",
       "    <tr>\n",
       "      <th>count</th>\n",
       "      <td>1338.000000</td>\n",
       "      <td>1338.000000</td>\n",
       "      <td>1338.000000</td>\n",
       "      <td>1338.000000</td>\n",
       "    </tr>\n",
       "    <tr>\n",
       "      <th>mean</th>\n",
       "      <td>39.207025</td>\n",
       "      <td>30.665471</td>\n",
       "      <td>1.094918</td>\n",
       "      <td>13270.422414</td>\n",
       "    </tr>\n",
       "    <tr>\n",
       "      <th>std</th>\n",
       "      <td>14.049960</td>\n",
       "      <td>6.098382</td>\n",
       "      <td>1.205493</td>\n",
       "      <td>12110.011240</td>\n",
       "    </tr>\n",
       "    <tr>\n",
       "      <th>min</th>\n",
       "      <td>18.000000</td>\n",
       "      <td>16.000000</td>\n",
       "      <td>0.000000</td>\n",
       "      <td>1121.870000</td>\n",
       "    </tr>\n",
       "    <tr>\n",
       "      <th>25%</th>\n",
       "      <td>27.000000</td>\n",
       "      <td>26.300000</td>\n",
       "      <td>0.000000</td>\n",
       "      <td>4740.287500</td>\n",
       "    </tr>\n",
       "    <tr>\n",
       "      <th>50%</th>\n",
       "      <td>39.000000</td>\n",
       "      <td>30.400000</td>\n",
       "      <td>1.000000</td>\n",
       "      <td>9382.030000</td>\n",
       "    </tr>\n",
       "    <tr>\n",
       "      <th>75%</th>\n",
       "      <td>51.000000</td>\n",
       "      <td>34.700000</td>\n",
       "      <td>2.000000</td>\n",
       "      <td>16639.915000</td>\n",
       "    </tr>\n",
       "    <tr>\n",
       "      <th>max</th>\n",
       "      <td>64.000000</td>\n",
       "      <td>53.100000</td>\n",
       "      <td>5.000000</td>\n",
       "      <td>63770.430000</td>\n",
       "    </tr>\n",
       "  </tbody>\n",
       "</table>\n",
       "</div>"
      ],
      "text/plain": [
       "               age          bmi     children      expenses\n",
       "count  1338.000000  1338.000000  1338.000000   1338.000000\n",
       "mean     39.207025    30.665471     1.094918  13270.422414\n",
       "std      14.049960     6.098382     1.205493  12110.011240\n",
       "min      18.000000    16.000000     0.000000   1121.870000\n",
       "25%      27.000000    26.300000     0.000000   4740.287500\n",
       "50%      39.000000    30.400000     1.000000   9382.030000\n",
       "75%      51.000000    34.700000     2.000000  16639.915000\n",
       "max      64.000000    53.100000     5.000000  63770.430000"
      ]
     },
     "execution_count": 9,
     "metadata": {},
     "output_type": "execute_result"
    }
   ],
   "source": [
    "# getting statistical information about dataset\n",
    "premium.describe()"
   ]
  },
  {
   "cell_type": "code",
   "execution_count": 10,
   "id": "15e04769",
   "metadata": {},
   "outputs": [
    {
     "data": {
      "text/plain": [
       "Index(['age', 'sex', 'bmi', 'children', 'smoker', 'region', 'expenses'], dtype='object')"
      ]
     },
     "execution_count": 10,
     "metadata": {},
     "output_type": "execute_result"
    }
   ],
   "source": [
    "# getting column names of the dataset\n",
    "premium.columns"
   ]
  },
  {
   "cell_type": "code",
   "execution_count": 11,
   "id": "0ec38de4",
   "metadata": {},
   "outputs": [
    {
     "name": "stdout",
     "output_type": "stream",
     "text": [
      "sex\n",
      "male      676\n",
      "female    662\n",
      "dtype: int64\n"
     ]
    }
   ],
   "source": [
    "# getting value counts for \"sex\"\n",
    "print(premium.value_counts('sex'))"
   ]
  },
  {
   "cell_type": "code",
   "execution_count": 12,
   "id": "e27b5b62",
   "metadata": {},
   "outputs": [
    {
     "name": "stdout",
     "output_type": "stream",
     "text": [
      "smoker\n",
      "no     1064\n",
      "yes     274\n",
      "dtype: int64\n"
     ]
    }
   ],
   "source": [
    "# getting value counts for \"smoker\" \n",
    "print(premium.value_counts('smoker'))"
   ]
  },
  {
   "cell_type": "code",
   "execution_count": 13,
   "id": "592cc0cc",
   "metadata": {},
   "outputs": [
    {
     "name": "stdout",
     "output_type": "stream",
     "text": [
      "region\n",
      "southeast    364\n",
      "northwest    325\n",
      "southwest    325\n",
      "northeast    324\n",
      "dtype: int64\n"
     ]
    }
   ],
   "source": [
    "# getting value counts for\" region\"\n",
    "print(premium.value_counts('region'))"
   ]
  },
  {
   "cell_type": "markdown",
   "id": "31d13e86",
   "metadata": {},
   "source": [
    "# Data Cleaning"
   ]
  },
  {
   "cell_type": "code",
   "execution_count": 14,
   "id": "1a956be6",
   "metadata": {},
   "outputs": [
    {
     "data": {
      "text/plain": [
       "age         0\n",
       "sex         0\n",
       "bmi         0\n",
       "children    0\n",
       "smoker      0\n",
       "region      0\n",
       "expenses    0\n",
       "dtype: int64"
      ]
     },
     "execution_count": 14,
     "metadata": {},
     "output_type": "execute_result"
    }
   ],
   "source": [
    "# checking for missing values\n",
    "premium.isnull().sum()"
   ]
  },
  {
   "cell_type": "code",
   "execution_count": 15,
   "id": "28bf4908",
   "metadata": {},
   "outputs": [
    {
     "data": {
      "text/plain": [
       "1"
      ]
     },
     "execution_count": 15,
     "metadata": {},
     "output_type": "execute_result"
    }
   ],
   "source": [
    "# checking for duplicate values\n",
    "premium.duplicated().sum()"
   ]
  },
  {
   "cell_type": "code",
   "execution_count": 16,
   "id": "d7a23dd8",
   "metadata": {},
   "outputs": [
    {
     "name": "stdout",
     "output_type": "stream",
     "text": [
      "Duplicate rows:      age   sex   bmi  children smoker     region  expenses\n",
      "581   19  male  30.6         0     no  northwest   1639.56\n"
     ]
    }
   ],
   "source": [
    "# getting duplicate rows\n",
    "duplicate = premium[premium.duplicated()]\n",
    "print(\"Duplicate rows:\", duplicate)"
   ]
  },
  {
   "cell_type": "code",
   "execution_count": 17,
   "id": "5a812b51",
   "metadata": {},
   "outputs": [
    {
     "data": {
      "text/html": [
       "<div>\n",
       "<style scoped>\n",
       "    .dataframe tbody tr th:only-of-type {\n",
       "        vertical-align: middle;\n",
       "    }\n",
       "\n",
       "    .dataframe tbody tr th {\n",
       "        vertical-align: top;\n",
       "    }\n",
       "\n",
       "    .dataframe thead th {\n",
       "        text-align: right;\n",
       "    }\n",
       "</style>\n",
       "<table border=\"1\" class=\"dataframe\">\n",
       "  <thead>\n",
       "    <tr style=\"text-align: right;\">\n",
       "      <th></th>\n",
       "      <th>age</th>\n",
       "      <th>sex</th>\n",
       "      <th>bmi</th>\n",
       "      <th>children</th>\n",
       "      <th>smoker</th>\n",
       "      <th>region</th>\n",
       "      <th>expenses</th>\n",
       "    </tr>\n",
       "  </thead>\n",
       "  <tbody>\n",
       "    <tr>\n",
       "      <th>0</th>\n",
       "      <td>19</td>\n",
       "      <td>female</td>\n",
       "      <td>27.9</td>\n",
       "      <td>0</td>\n",
       "      <td>yes</td>\n",
       "      <td>southwest</td>\n",
       "      <td>16884.92</td>\n",
       "    </tr>\n",
       "    <tr>\n",
       "      <th>1</th>\n",
       "      <td>18</td>\n",
       "      <td>male</td>\n",
       "      <td>33.8</td>\n",
       "      <td>1</td>\n",
       "      <td>no</td>\n",
       "      <td>southeast</td>\n",
       "      <td>1725.55</td>\n",
       "    </tr>\n",
       "    <tr>\n",
       "      <th>2</th>\n",
       "      <td>28</td>\n",
       "      <td>male</td>\n",
       "      <td>33.0</td>\n",
       "      <td>3</td>\n",
       "      <td>no</td>\n",
       "      <td>southeast</td>\n",
       "      <td>4449.46</td>\n",
       "    </tr>\n",
       "    <tr>\n",
       "      <th>3</th>\n",
       "      <td>33</td>\n",
       "      <td>male</td>\n",
       "      <td>22.7</td>\n",
       "      <td>0</td>\n",
       "      <td>no</td>\n",
       "      <td>northwest</td>\n",
       "      <td>21984.47</td>\n",
       "    </tr>\n",
       "    <tr>\n",
       "      <th>4</th>\n",
       "      <td>32</td>\n",
       "      <td>male</td>\n",
       "      <td>28.9</td>\n",
       "      <td>0</td>\n",
       "      <td>no</td>\n",
       "      <td>northwest</td>\n",
       "      <td>3866.86</td>\n",
       "    </tr>\n",
       "  </tbody>\n",
       "</table>\n",
       "</div>"
      ],
      "text/plain": [
       "   age     sex   bmi  children smoker     region  expenses\n",
       "0   19  female  27.9         0    yes  southwest  16884.92\n",
       "1   18    male  33.8         1     no  southeast   1725.55\n",
       "2   28    male  33.0         3     no  southeast   4449.46\n",
       "3   33    male  22.7         0     no  northwest  21984.47\n",
       "4   32    male  28.9         0     no  northwest   3866.86"
      ]
     },
     "execution_count": 17,
     "metadata": {},
     "output_type": "execute_result"
    }
   ],
   "source": [
    "# removing duplicate rows and storing the data into new dataframe.\n",
    "premium_df = premium.drop_duplicates(keep='first')\n",
    "premium_df.head()"
   ]
  },
  {
   "cell_type": "code",
   "execution_count": 18,
   "id": "ca0483bd",
   "metadata": {},
   "outputs": [
    {
     "data": {
      "text/plain": [
       "0"
      ]
     },
     "execution_count": 18,
     "metadata": {},
     "output_type": "execute_result"
    }
   ],
   "source": [
    "# rechecking for duplicate values in new dataframe\n",
    "premium_df.duplicated().sum()"
   ]
  },
  {
   "cell_type": "code",
   "execution_count": 19,
   "id": "af0af083",
   "metadata": {},
   "outputs": [
    {
     "data": {
      "text/plain": [
       "(1337, 7)"
      ]
     },
     "execution_count": 19,
     "metadata": {},
     "output_type": "execute_result"
    }
   ],
   "source": [
    "# getting dimensions of the dataset of new dataframe \n",
    "premium_df.shape"
   ]
  },
  {
   "cell_type": "code",
   "execution_count": 20,
   "id": "0b78549d",
   "metadata": {},
   "outputs": [
    {
     "data": {
      "text/html": [
       "<div>\n",
       "<style scoped>\n",
       "    .dataframe tbody tr th:only-of-type {\n",
       "        vertical-align: middle;\n",
       "    }\n",
       "\n",
       "    .dataframe tbody tr th {\n",
       "        vertical-align: top;\n",
       "    }\n",
       "\n",
       "    .dataframe thead th {\n",
       "        text-align: right;\n",
       "    }\n",
       "</style>\n",
       "<table border=\"1\" class=\"dataframe\">\n",
       "  <thead>\n",
       "    <tr style=\"text-align: right;\">\n",
       "      <th></th>\n",
       "      <th>age</th>\n",
       "      <th>bmi</th>\n",
       "      <th>children</th>\n",
       "      <th>expenses</th>\n",
       "    </tr>\n",
       "  </thead>\n",
       "  <tbody>\n",
       "    <tr>\n",
       "      <th>count</th>\n",
       "      <td>1337.000000</td>\n",
       "      <td>1337.000000</td>\n",
       "      <td>1337.000000</td>\n",
       "      <td>1337.000000</td>\n",
       "    </tr>\n",
       "    <tr>\n",
       "      <th>mean</th>\n",
       "      <td>39.222139</td>\n",
       "      <td>30.665520</td>\n",
       "      <td>1.095737</td>\n",
       "      <td>13279.121638</td>\n",
       "    </tr>\n",
       "    <tr>\n",
       "      <th>std</th>\n",
       "      <td>14.044333</td>\n",
       "      <td>6.100664</td>\n",
       "      <td>1.205571</td>\n",
       "      <td>12110.359657</td>\n",
       "    </tr>\n",
       "    <tr>\n",
       "      <th>min</th>\n",
       "      <td>18.000000</td>\n",
       "      <td>16.000000</td>\n",
       "      <td>0.000000</td>\n",
       "      <td>1121.870000</td>\n",
       "    </tr>\n",
       "    <tr>\n",
       "      <th>25%</th>\n",
       "      <td>27.000000</td>\n",
       "      <td>26.300000</td>\n",
       "      <td>0.000000</td>\n",
       "      <td>4746.340000</td>\n",
       "    </tr>\n",
       "    <tr>\n",
       "      <th>50%</th>\n",
       "      <td>39.000000</td>\n",
       "      <td>30.400000</td>\n",
       "      <td>1.000000</td>\n",
       "      <td>9386.160000</td>\n",
       "    </tr>\n",
       "    <tr>\n",
       "      <th>75%</th>\n",
       "      <td>51.000000</td>\n",
       "      <td>34.700000</td>\n",
       "      <td>2.000000</td>\n",
       "      <td>16657.720000</td>\n",
       "    </tr>\n",
       "    <tr>\n",
       "      <th>max</th>\n",
       "      <td>64.000000</td>\n",
       "      <td>53.100000</td>\n",
       "      <td>5.000000</td>\n",
       "      <td>63770.430000</td>\n",
       "    </tr>\n",
       "  </tbody>\n",
       "</table>\n",
       "</div>"
      ],
      "text/plain": [
       "               age          bmi     children      expenses\n",
       "count  1337.000000  1337.000000  1337.000000   1337.000000\n",
       "mean     39.222139    30.665520     1.095737  13279.121638\n",
       "std      14.044333     6.100664     1.205571  12110.359657\n",
       "min      18.000000    16.000000     0.000000   1121.870000\n",
       "25%      27.000000    26.300000     0.000000   4746.340000\n",
       "50%      39.000000    30.400000     1.000000   9386.160000\n",
       "75%      51.000000    34.700000     2.000000  16657.720000\n",
       "max      64.000000    53.100000     5.000000  63770.430000"
      ]
     },
     "execution_count": 20,
     "metadata": {},
     "output_type": "execute_result"
    }
   ],
   "source": [
    "# getting statistical information about dataset of new dataframe\n",
    "premium_df.describe()"
   ]
  },
  {
   "cell_type": "markdown",
   "id": "1b1be79e",
   "metadata": {},
   "source": [
    "After removing the duplicate entry, there is a negligible difference between the statistical information of previous data and new data."
   ]
  },
  {
   "cell_type": "code",
   "execution_count": 21,
   "id": "cdfcdd44",
   "metadata": {},
   "outputs": [
    {
     "data": {
      "text/html": [
       "<div>\n",
       "<style scoped>\n",
       "    .dataframe tbody tr th:only-of-type {\n",
       "        vertical-align: middle;\n",
       "    }\n",
       "\n",
       "    .dataframe tbody tr th {\n",
       "        vertical-align: top;\n",
       "    }\n",
       "\n",
       "    .dataframe thead th {\n",
       "        text-align: right;\n",
       "    }\n",
       "</style>\n",
       "<table border=\"1\" class=\"dataframe\">\n",
       "  <thead>\n",
       "    <tr style=\"text-align: right;\">\n",
       "      <th></th>\n",
       "      <th>age</th>\n",
       "      <th>bmi</th>\n",
       "      <th>children</th>\n",
       "      <th>expenses</th>\n",
       "    </tr>\n",
       "  </thead>\n",
       "  <tbody>\n",
       "    <tr>\n",
       "      <th>age</th>\n",
       "      <td>1.000000</td>\n",
       "      <td>0.109414</td>\n",
       "      <td>0.041536</td>\n",
       "      <td>0.298308</td>\n",
       "    </tr>\n",
       "    <tr>\n",
       "      <th>bmi</th>\n",
       "      <td>0.109414</td>\n",
       "      <td>1.000000</td>\n",
       "      <td>0.012641</td>\n",
       "      <td>0.198637</td>\n",
       "    </tr>\n",
       "    <tr>\n",
       "      <th>children</th>\n",
       "      <td>0.041536</td>\n",
       "      <td>0.012641</td>\n",
       "      <td>1.000000</td>\n",
       "      <td>0.067389</td>\n",
       "    </tr>\n",
       "    <tr>\n",
       "      <th>expenses</th>\n",
       "      <td>0.298308</td>\n",
       "      <td>0.198637</td>\n",
       "      <td>0.067389</td>\n",
       "      <td>1.000000</td>\n",
       "    </tr>\n",
       "  </tbody>\n",
       "</table>\n",
       "</div>"
      ],
      "text/plain": [
       "               age       bmi  children  expenses\n",
       "age       1.000000  0.109414  0.041536  0.298308\n",
       "bmi       0.109414  1.000000  0.012641  0.198637\n",
       "children  0.041536  0.012641  1.000000  0.067389\n",
       "expenses  0.298308  0.198637  0.067389  1.000000"
      ]
     },
     "execution_count": 21,
     "metadata": {},
     "output_type": "execute_result"
    }
   ],
   "source": [
    "# checking for correlation among different features\n",
    "premium_df.corr()"
   ]
  },
  {
   "cell_type": "markdown",
   "id": "fa3e9daa",
   "metadata": {},
   "source": [
    "# Data Visualization"
   ]
  },
  {
   "cell_type": "code",
   "execution_count": 22,
   "id": "5e74497a",
   "metadata": {},
   "outputs": [
    {
     "data": {
      "image/png": "[encoded data removed]",
      "text/plain": [
       "<Figure size 360x216 with 2 Axes>"
      ]
     },
     "metadata": {
      "needs_background": "light"
     },
     "output_type": "display_data"
    }
   ],
   "source": [
    "# plotting graph for correlation\n",
    "premium_df.corr()\n",
    "plt.figure(figsize=(5,3))\n",
    "sns.heatmap(premium_df.corr(), annot = True, cmap=plt.cm.Blues)\n",
    "plt.title(\"Correlation Matrix\")\n",
    "plt.show()"
   ]
  },
  {
   "cell_type": "code",
   "execution_count": 23,
   "id": "3032abdf",
   "metadata": {},
   "outputs": [
    {
     "data": {
      "text/plain": [
       "<seaborn.axisgrid.PairGrid at 0x2b1110e35e0>"
      ]
     },
     "execution_count": 23,
     "metadata": {},
     "output_type": "execute_result"
    },
    {
     "data": {
      "image/png": "[encoded data removed]",
      "text/plain": [
       "<Figure size 720x720 with 20 Axes>"
      ]
     },
     "metadata": {
      "needs_background": "light"
     },
     "output_type": "display_data"
    }
   ],
   "source": [
    "sns.pairplot(premium_df)"
   ]
  },
  {
   "cell_type": "code",
   "execution_count": 24,
   "id": "d6855007",
   "metadata": {},
   "outputs": [
    {
     "data": {
      "text/plain": [
       "Text(0, 0.5, 'expenses')"
      ]
     },
     "execution_count": 24,
     "metadata": {},
     "output_type": "execute_result"
    },
    {
     "data": {
      "image/png": "[encoded data removed]",
      "text/plain": [
       "<Figure size 432x288 with 1 Axes>"
      ]
     },
     "metadata": {
      "needs_background": "light"
     },
     "output_type": "display_data"
    }
   ],
   "source": [
    "plt.scatter(premium_df['bmi'],premium_df['expenses'])\n",
    "plt.xlabel('bmi')\n",
    "plt.ylabel('expenses')"
   ]
  },
  {
   "cell_type": "markdown",
   "id": "2367ed6f",
   "metadata": {},
   "source": [
    "'bmi' and 'expenses' are positively correlated. So there exists linear relationship between these two variables."
   ]
  },
  {
   "cell_type": "code",
   "execution_count": 25,
   "id": "b1b1b172",
   "metadata": {},
   "outputs": [
    {
     "data": {
      "text/plain": [
       "Text(0, 0.5, 'expenses')"
      ]
     },
     "execution_count": 25,
     "metadata": {},
     "output_type": "execute_result"
    },
    {
     "data": {
      "image/png": "[encoded data removed]",
      "text/plain": [
       "<Figure size 432x288 with 1 Axes>"
      ]
     },
     "metadata": {
      "needs_background": "light"
     },
     "output_type": "display_data"
    }
   ],
   "source": [
    "plt.scatter(premium_df['age'],premium_df['expenses'])\n",
    "plt.xlabel('age')\n",
    "plt.ylabel('expenses')"
   ]
  },
  {
   "cell_type": "markdown",
   "id": "0734e15e",
   "metadata": {},
   "source": [
    "'age' and 'expenses' are positively correlated. So there exists linear relationship between these two variables."
   ]
  },
  {
   "cell_type": "code",
   "execution_count": 26,
   "id": "252b5d72",
   "metadata": {},
   "outputs": [
    {
     "data": {
      "text/plain": [
       "<AxesSubplot:xlabel='bmi', ylabel='expenses'>"
      ]
     },
     "execution_count": 26,
     "metadata": {},
     "output_type": "execute_result"
    },
    {
     "data": {
      "image/png": "[encoded data removed]",
      "text/plain": [
       "<Figure size 432x288 with 1 Axes>"
      ]
     },
     "metadata": {
      "needs_background": "light"
     },
     "output_type": "display_data"
    }
   ],
   "source": [
    "sns.regplot(x='bmi',y='expenses', data = premium_df)"
   ]
  },
  {
   "cell_type": "markdown",
   "id": "1842d5fb",
   "metadata": {},
   "source": [
    "It is observed that with the increase in 'bmi' , the 'expenses' are increasing. Maximum data points lie on the line of best fit."
   ]
  },
  {
   "cell_type": "code",
   "execution_count": 27,
   "id": "dffa5656",
   "metadata": {},
   "outputs": [
    {
     "data": {
      "text/plain": [
       "<AxesSubplot:xlabel='age', ylabel='expenses'>"
      ]
     },
     "execution_count": 27,
     "metadata": {},
     "output_type": "execute_result"
    },
    {
     "data": {
      "image/png": "[encoded data removed]",
      "text/plain": [
       "<Figure size 432x288 with 1 Axes>"
      ]
     },
     "metadata": {
      "needs_background": "light"
     },
     "output_type": "display_data"
    }
   ],
   "source": [
    "sns.regplot(x='age',y='expenses', data = premium_df)"
   ]
  },
  {
   "cell_type": "markdown",
   "id": "d858459b",
   "metadata": {},
   "source": [
    "It is observed that with the increase in 'age' , the 'expenses' are increasing but very few data points lie on the line of best fit."
   ]
  },
  {
   "cell_type": "markdown",
   "id": "09304dc5",
   "metadata": {},
   "source": [
    "1. Univariate Analysis"
   ]
  },
  {
   "cell_type": "code",
   "execution_count": 28,
   "id": "66f0a560",
   "metadata": {},
   "outputs": [
    {
     "name": "stdout",
     "output_type": "stream",
     "text": [
      "Index(['male', 'female'], dtype='object')\n",
      "[675 662]\n"
     ]
    }
   ],
   "source": [
    "# names and values of \"sex\" feature\n",
    "sex_names = premium_df.sex.value_counts().index\n",
    "sex_values = premium_df.sex.value_counts().values\n",
    "print(sex_names)\n",
    "print(sex_values)"
   ]
  },
  {
   "cell_type": "code",
   "execution_count": 29,
   "id": "d7034ad2",
   "metadata": {},
   "outputs": [
    {
     "data": {
      "text/plain": [
       "([<matplotlib.patches.Wedge at 0x2b113f42d30>,\n",
       "  <matplotlib.patches.Wedge at 0x2b113f55490>],\n",
       " [Text(-0.016800012982034103, 1.0998717014105799, 'male'),\n",
       "  Text(0.01680011595945443, -1.0998716998376443, 'female')],\n",
       " [Text(-0.009163643444745873, 0.5999300189512253, '50.49%'),\n",
       "  Text(0.009163699614247869, -0.5999300180932605, '49.51%')])"
      ]
     },
     "execution_count": 29,
     "metadata": {},
     "output_type": "execute_result"
    },
    {
     "data": {
      "image/png": "[encoded data removed]",
      "text/plain": [
       "<Figure size 432x288 with 1 Axes>"
      ]
     },
     "metadata": {},
     "output_type": "display_data"
    }
   ],
   "source": [
    "# pie chart for \"sex\" feature\n",
    "plt.pie(sex_values,labels = sex_names,autopct = \"%1.2f%%\")"
   ]
  },
  {
   "cell_type": "markdown",
   "id": "423a47c3",
   "metadata": {},
   "source": [
    "After analyzing the above chart, it is observed that there is equal distribution of males and females."
   ]
  },
  {
   "cell_type": "code",
   "execution_count": 30,
   "id": "124c16a5",
   "metadata": {},
   "outputs": [
    {
     "name": "stdout",
     "output_type": "stream",
     "text": [
      "Index(['no', 'yes'], dtype='object')\n",
      "[1063  274]\n"
     ]
    }
   ],
   "source": [
    "# names and values of \"smoker\" feature\n",
    "smoker_names = premium_df.smoker.value_counts().index\n",
    "smoker_values = premium_df.smoker.value_counts().values\n",
    "print(smoker_names)\n",
    "print(smoker_values)"
   ]
  },
  {
   "cell_type": "code",
   "execution_count": 31,
   "id": "0d194479",
   "metadata": {},
   "outputs": [
    {
     "data": {
      "text/plain": [
       "([<matplotlib.patches.Wedge at 0x2b113f8efa0>,\n",
       "  <matplotlib.patches.Wedge at 0x2b113f9c5e0>],\n",
       " [Text(-0.8797849777822367, 0.6602865990376524, 'no'),\n",
       "  Text(0.8797849468719889, -0.6602866402233593, 'yes')],\n",
       " [Text(-0.4798827151539472, 0.36015632674781034, '79.51%'),\n",
       "  Text(0.4798826982938121, -0.36015634921274137, '20.49%')])"
      ]
     },
     "execution_count": 31,
     "metadata": {},
     "output_type": "execute_result"
    },
    {
     "data": {
      "image/png": "[encoded data removed]",
      "text/plain": [
       "<Figure size 432x288 with 1 Axes>"
      ]
     },
     "metadata": {},
     "output_type": "display_data"
    }
   ],
   "source": [
    "# pie chart for \"smoker\" feature\n",
    "plt.pie(smoker_values,labels = smoker_names,autopct = \"%1.2f%%\")"
   ]
  },
  {
   "cell_type": "markdown",
   "id": "f776f69a",
   "metadata": {},
   "source": [
    "From the above chart, it is observed that the maximum number of people do not smoke."
   ]
  },
  {
   "cell_type": "code",
   "execution_count": 32,
   "id": "71cc8b16",
   "metadata": {},
   "outputs": [
    {
     "name": "stdout",
     "output_type": "stream",
     "text": [
      "Index(['southeast', 'southwest', 'northwest', 'northeast'], dtype='object')\n",
      "[364 325 324 324]\n"
     ]
    }
   ],
   "source": [
    "# names and values of \"region\" feature\n",
    "region_names = premium_df.region.value_counts().index\n",
    "region_values = premium_df.region.value_counts().values\n",
    "print(region_names)\n",
    "print(region_values)"
   ]
  },
  {
   "cell_type": "code",
   "execution_count": 33,
   "id": "a772f332",
   "metadata": {},
   "outputs": [
    {
     "data": {
      "text/plain": [
       "([<matplotlib.patches.Wedge at 0x2b114fb5250>,\n",
       "  <matplotlib.patches.Wedge at 0x2b114fb5850>,\n",
       "  <matplotlib.patches.Wedge at 0x2b114fb5f70>,\n",
       "  <matplotlib.patches.Wedge at 0x2b114fc16d0>],\n",
       " [Text(0.7215890706705311, 0.8302464773119123, 'southeast'),\n",
       "  Text(-0.8640286077747883, 0.6807749737958654, 'southwest'),\n",
       "  Text(-0.7196362470877354, -0.8319397044723131, 'northwest'),\n",
       "  Text(0.7963235543877186, -0.7588601957721266, 'northeast')],\n",
       " [Text(0.39359403854756236, 0.4528617148974066, '27.23%'),\n",
       "  Text(-0.47128833151352084, 0.3713318038886538, '24.31%'),\n",
       "  Text(-0.3925288620478557, -0.4537852933485344, '24.23%'),\n",
       "  Text(0.43435830239330103, -0.41392374314843267, '24.23%')])"
      ]
     },
     "execution_count": 33,
     "metadata": {},
     "output_type": "execute_result"
    },
    {
     "data": {
      "image/png": "[encoded data removed]",
      "text/plain": [
       "<Figure size 432x288 with 1 Axes>"
      ]
     },
     "metadata": {},
     "output_type": "display_data"
    }
   ],
   "source": [
    "# pie chart for \"region\" feature\n",
    "plt.pie(region_values,labels = region_names,autopct = \"%1.2f%%\")"
   ]
  },
  {
   "cell_type": "markdown",
   "id": "37f3f949",
   "metadata": {},
   "source": [
    "From the above chart, it is observed that the maximum number of people are from the Southeast region."
   ]
  },
  {
   "cell_type": "code",
   "execution_count": 34,
   "id": "f44b7199",
   "metadata": {},
   "outputs": [
    {
     "data": {
      "image/png": "[encoded data removed]",
      "text/plain": [
       "<Figure size 1080x432 with 1 Axes>"
      ]
     },
     "metadata": {
      "needs_background": "light"
     },
     "output_type": "display_data"
    }
   ],
   "source": [
    "# plotting graph for \"age\" feature\n",
    "plt.figure(figsize=(15,6))\n",
    "sns.countplot(x=premium_df.age)\n",
    "plt.show()"
   ]
  },
  {
   "cell_type": "markdown",
   "id": "895f081b",
   "metadata": {},
   "source": [
    "From the above graph, it is observed that the maximum number of people are 18 and 19 years old."
   ]
  },
  {
   "cell_type": "code",
   "execution_count": 35,
   "id": "c907bccd",
   "metadata": {},
   "outputs": [
    {
     "name": "stdout",
     "output_type": "stream",
     "text": [
      "Int64Index([0, 1, 2, 3, 4, 5], dtype='int64')\n",
      "[573 324 240 157  25  18]\n"
     ]
    }
   ],
   "source": [
    "# names and values of \"children\" feature\n",
    "children_names = premium_df.children.value_counts().index\n",
    "children_values = premium_df.children.value_counts().values\n",
    "print(children_names)\n",
    "print(children_values)"
   ]
  },
  {
   "cell_type": "code",
   "execution_count": 36,
   "id": "6ad52be8",
   "metadata": {},
   "outputs": [
    {
     "data": {
      "text/plain": [
       "([<matplotlib.patches.Wedge at 0x2b115312a30>,\n",
       "  <matplotlib.patches.Wedge at 0x2b11531e130>,\n",
       "  <matplotlib.patches.Wedge at 0x2b11531e850>,\n",
       "  <matplotlib.patches.Wedge at 0x2b11531ef70>,\n",
       "  <matplotlib.patches.Wedge at 0x2b11510c6d0>,\n",
       "  <matplotlib.patches.Wedge at 0x2b11510cdf0>],\n",
       " [Text(0.2447730130080499, 1.0724207066739067, '0'),\n",
       "  Text(-1.0467198531072106, -0.33819750015518996, '1'),\n",
       "  Text(0.0736090716588521, -1.09753437511976, '2'),\n",
       "  Text(0.9255059033806083, -0.5945072100552224, '3'),\n",
       "  Text(1.0887198297987304, -0.1571277575828781, '4'),\n",
       "  Text(1.0990162607692266, -0.046510843518769523, '5')],\n",
       " [Text(0.1335125525498454, 0.5849567490948581, '42.86%'),\n",
       "  Text(-0.570938101694842, -0.18447136372101267, '24.23%'),\n",
       "  Text(0.04015040272301023, -0.5986551137016872, '17.95%'),\n",
       "  Text(0.5048214018439681, -0.3242766600301213, '11.74%'),\n",
       "  Text(0.5938471798902165, -0.08570604959066079, '1.87%'),\n",
       "  Text(0.5994634149650326, -0.025369551010237922, '1.35%')])"
      ]
     },
     "execution_count": 36,
     "metadata": {},
     "output_type": "execute_result"
    },
    {
     "data": {
      "image/png": "[encoded data removed]",
      "text/plain": [
       "<Figure size 648x648 with 1 Axes>"
      ]
     },
     "metadata": {},
     "output_type": "display_data"
    }
   ],
   "source": [
    "# pie chart for \"children\" feature\n",
    "plt.figure(figsize=(9,9))\n",
    "plt.pie(children_values,labels = children_names,autopct = \"%1.2f%%\")"
   ]
  },
  {
   "cell_type": "code",
   "execution_count": 37,
   "id": "303c801b",
   "metadata": {},
   "outputs": [
    {
     "data": {
      "image/png": "[encoded data removed]",
      "text/plain": [
       "<Figure size 432x288 with 1 Axes>"
      ]
     },
     "metadata": {
      "needs_background": "light"
     },
     "output_type": "display_data"
    }
   ],
   "source": [
    "# plotting graph for \"children\" feature\n",
    "sns.countplot(x=premium_df.children)\n",
    "plt.show()"
   ]
  },
  {
   "cell_type": "markdown",
   "id": "19cb4a5d",
   "metadata": {},
   "source": [
    "From the above graphs, it is observed that the maximum number of couples do not have children."
   ]
  },
  {
   "cell_type": "code",
   "execution_count": 38,
   "id": "8f03a3c3",
   "metadata": {},
   "outputs": [
    {
     "data": {
      "image/png": "[encoded data removed]",
      "text/plain": [
       "<Figure size 720x504 with 1 Axes>"
      ]
     },
     "metadata": {
      "needs_background": "light"
     },
     "output_type": "display_data"
    }
   ],
   "source": [
    "# plotting graph for \"expenses\" feature\n",
    "plt.figure(figsize=(10,7))\n",
    "sns.histplot(premium_df['expenses']) \n",
    "plt.show()"
   ]
  },
  {
   "cell_type": "markdown",
   "id": "df9beb73",
   "metadata": {},
   "source": [
    "It is observed that the maximum insurance amount given is 60,000 but the maximum count lies between 1 to 10,000."
   ]
  },
  {
   "cell_type": "markdown",
   "id": "b899e7a3",
   "metadata": {},
   "source": [
    "2. Bivariate Analysis"
   ]
  },
  {
   "cell_type": "code",
   "execution_count": 39,
   "id": "57a51a4c",
   "metadata": {},
   "outputs": [
    {
     "data": {
      "image/png": "[encoded data removed]",
      "text/plain": [
       "<Figure size 1080x648 with 1 Axes>"
      ]
     },
     "metadata": {
      "needs_background": "light"
     },
     "output_type": "display_data"
    }
   ],
   "source": [
    "# plotting barplot between \"expenses\" and \"age\"\n",
    "plt.figure(figsize=(15,9))\n",
    "sns.barplot(y='expenses',x='age',data=premium_df,ci= 0)\n",
    "plt.show()"
   ]
  },
  {
   "cell_type": "markdown",
   "id": "9e84510c",
   "metadata": {},
   "source": [
    "It is observed that the maximum insurance amount is given to people who are 64 years old. "
   ]
  },
  {
   "cell_type": "code",
   "execution_count": 40,
   "id": "7d323272",
   "metadata": {},
   "outputs": [
    {
     "data": {
      "image/png": "[encoded data removed]",
      "text/plain": [
       "<Figure size 288x216 with 1 Axes>"
      ]
     },
     "metadata": {
      "needs_background": "light"
     },
     "output_type": "display_data"
    }
   ],
   "source": [
    "# plotting barplot between \"expenses\" and \"sex\"\n",
    "plt.figure(figsize=(4,3))\n",
    "sns.barplot(y='expenses',x='sex',data=premium_df,ci= 0)\n",
    "plt.show()"
   ]
  },
  {
   "cell_type": "markdown",
   "id": "50d9260d",
   "metadata": {},
   "source": [
    "It is observed that the maximum insurance amount is given to the males."
   ]
  },
  {
   "cell_type": "code",
   "execution_count": 41,
   "id": "c279fcb9",
   "metadata": {},
   "outputs": [
    {
     "data": {
      "image/png": "[encoded data removed]",
      "text/plain": [
       "<Figure size 432x360 with 1 Axes>"
      ]
     },
     "metadata": {
      "needs_background": "light"
     },
     "output_type": "display_data"
    }
   ],
   "source": [
    "# plotting barplot between \"expenses\" and \"children\"\n",
    "plt.figure(figsize=(6,5))\n",
    "sns.barplot(y='expenses',x='children',data=premium_df,ci= 0)\n",
    "plt.show()"
   ]
  },
  {
   "cell_type": "markdown",
   "id": "6561123d",
   "metadata": {},
   "source": [
    "From the above graph, it is observed that the maximum insurance amount is given to couples who have 3 children."
   ]
  },
  {
   "cell_type": "markdown",
   "id": "6c7789dd",
   "metadata": {},
   "source": [
    "# Outlier Detection"
   ]
  },
  {
   "cell_type": "code",
   "execution_count": 42,
   "id": "06a8f803",
   "metadata": {},
   "outputs": [
    {
     "data": {
      "image/png": "[encoded data removed]",
      "text/plain": [
       "<Figure size 720x504 with 1 Axes>"
      ]
     },
     "metadata": {
      "needs_background": "light"
     },
     "output_type": "display_data"
    }
   ],
   "source": [
    "# outlier detection for \"expenses\"\n",
    "plt.figure(figsize=(10,7))\n",
    "sns.boxplot(premium_df['expenses']) \n",
    "plt.show()"
   ]
  },
  {
   "cell_type": "code",
   "execution_count": 43,
   "id": "0696dd12",
   "metadata": {},
   "outputs": [
    {
     "data": {
      "image/png": "[encoded data removed]",
      "text/plain": [
       "<Figure size 720x504 with 1 Axes>"
      ]
     },
     "metadata": {
      "needs_background": "light"
     },
     "output_type": "display_data"
    }
   ],
   "source": [
    "# outlier detection for \"bmi\"\n",
    "plt.figure(figsize=(10,7))\n",
    "sns.boxplot(premium_df['bmi']) \n",
    "plt.show()"
   ]
  },
  {
   "cell_type": "code",
   "execution_count": 44,
   "id": "218527b4",
   "metadata": {},
   "outputs": [
    {
     "data": {
      "image/png": "[encoded data removed]",
      "text/plain": [
       "<Figure size 720x504 with 1 Axes>"
      ]
     },
     "metadata": {
      "needs_background": "light"
     },
     "output_type": "display_data"
    }
   ],
   "source": [
    "# outlier detection for \"age\"\n",
    "plt.figure(figsize=(10,7))\n",
    "sns.boxplot(premium_df['age']) \n",
    "plt.show()"
   ]
  },
  {
   "cell_type": "code",
   "execution_count": 45,
   "id": "1ff1975d",
   "metadata": {},
   "outputs": [
    {
     "data": {
      "image/png": "[encoded data removed]",
      "text/plain": [
       "<Figure size 720x504 with 1 Axes>"
      ]
     },
     "metadata": {
      "needs_background": "light"
     },
     "output_type": "display_data"
    }
   ],
   "source": [
    "# outlier detection for \"children\"\n",
    "plt.figure(figsize=(10,7))\n",
    "sns.boxplot(premium_df['children']) \n",
    "plt.show()"
   ]
  },
  {
   "cell_type": "markdown",
   "id": "dcaffa23",
   "metadata": {},
   "source": [
    "From the above graphs it is observed that columns \"expenses\" and \"bmi\" have outliers."
   ]
  },
  {
   "cell_type": "markdown",
   "id": "2bbabfa8",
   "metadata": {},
   "source": [
    "# Outlier Treatment using IQR"
   ]
  },
  {
   "cell_type": "code",
   "execution_count": 46,
   "id": "85ef013f",
   "metadata": {},
   "outputs": [
    {
     "data": {
      "text/plain": [
       "(4746.34, 16657.72)"
      ]
     },
     "execution_count": 46,
     "metadata": {},
     "output_type": "execute_result"
    }
   ],
   "source": [
    "# finding quartiles for column \"expenses\"\n",
    "Q1 = premium_df.expenses.quantile(0.25)\n",
    "Q3 = premium_df.expenses.quantile(0.75)\n",
    "Q1,Q3"
   ]
  },
  {
   "cell_type": "code",
   "execution_count": 47,
   "id": "5d745b23",
   "metadata": {},
   "outputs": [
    {
     "data": {
      "text/plain": [
       "11911.380000000001"
      ]
     },
     "execution_count": 47,
     "metadata": {},
     "output_type": "execute_result"
    }
   ],
   "source": [
    "# Inter Quartile Range for \"expenses\"\n",
    "IQR = Q3 - Q1\n",
    "IQR "
   ]
  },
  {
   "cell_type": "code",
   "execution_count": 48,
   "id": "3ca841c6",
   "metadata": {},
   "outputs": [
    {
     "data": {
      "text/plain": [
       "(-13120.73, 34524.79)"
      ]
     },
     "execution_count": 48,
     "metadata": {},
     "output_type": "execute_result"
    }
   ],
   "source": [
    "# finding upper limit and lower limit for \"expenses\"\n",
    "lower_limit_exp = Q1 - 1.5*IQR\n",
    "upper_limit_exp = Q3 + 1.5*IQR\n",
    "lower_limit_exp , upper_limit_exp"
   ]
  },
  {
   "cell_type": "code",
   "execution_count": 49,
   "id": "dda56d10",
   "metadata": {},
   "outputs": [
    {
     "data": {
      "text/html": [
       "<div>\n",
       "<style scoped>\n",
       "    .dataframe tbody tr th:only-of-type {\n",
       "        vertical-align: middle;\n",
       "    }\n",
       "\n",
       "    .dataframe tbody tr th {\n",
       "        vertical-align: top;\n",
       "    }\n",
       "\n",
       "    .dataframe thead th {\n",
       "        text-align: right;\n",
       "    }\n",
       "</style>\n",
       "<table border=\"1\" class=\"dataframe\">\n",
       "  <thead>\n",
       "    <tr style=\"text-align: right;\">\n",
       "      <th></th>\n",
       "      <th>age</th>\n",
       "      <th>sex</th>\n",
       "      <th>bmi</th>\n",
       "      <th>children</th>\n",
       "      <th>smoker</th>\n",
       "      <th>region</th>\n",
       "      <th>expenses</th>\n",
       "    </tr>\n",
       "  </thead>\n",
       "  <tbody>\n",
       "    <tr>\n",
       "      <th>14</th>\n",
       "      <td>27</td>\n",
       "      <td>male</td>\n",
       "      <td>42.1</td>\n",
       "      <td>0</td>\n",
       "      <td>yes</td>\n",
       "      <td>southeast</td>\n",
       "      <td>39611.76</td>\n",
       "    </tr>\n",
       "    <tr>\n",
       "      <th>19</th>\n",
       "      <td>30</td>\n",
       "      <td>male</td>\n",
       "      <td>35.3</td>\n",
       "      <td>0</td>\n",
       "      <td>yes</td>\n",
       "      <td>southwest</td>\n",
       "      <td>36837.47</td>\n",
       "    </tr>\n",
       "    <tr>\n",
       "      <th>23</th>\n",
       "      <td>34</td>\n",
       "      <td>female</td>\n",
       "      <td>31.9</td>\n",
       "      <td>1</td>\n",
       "      <td>yes</td>\n",
       "      <td>northeast</td>\n",
       "      <td>37701.88</td>\n",
       "    </tr>\n",
       "    <tr>\n",
       "      <th>29</th>\n",
       "      <td>31</td>\n",
       "      <td>male</td>\n",
       "      <td>36.3</td>\n",
       "      <td>2</td>\n",
       "      <td>yes</td>\n",
       "      <td>southwest</td>\n",
       "      <td>38711.00</td>\n",
       "    </tr>\n",
       "    <tr>\n",
       "      <th>30</th>\n",
       "      <td>22</td>\n",
       "      <td>male</td>\n",
       "      <td>35.6</td>\n",
       "      <td>0</td>\n",
       "      <td>yes</td>\n",
       "      <td>southwest</td>\n",
       "      <td>35585.58</td>\n",
       "    </tr>\n",
       "    <tr>\n",
       "      <th>...</th>\n",
       "      <td>...</td>\n",
       "      <td>...</td>\n",
       "      <td>...</td>\n",
       "      <td>...</td>\n",
       "      <td>...</td>\n",
       "      <td>...</td>\n",
       "      <td>...</td>\n",
       "    </tr>\n",
       "    <tr>\n",
       "      <th>1300</th>\n",
       "      <td>45</td>\n",
       "      <td>male</td>\n",
       "      <td>30.4</td>\n",
       "      <td>0</td>\n",
       "      <td>yes</td>\n",
       "      <td>southeast</td>\n",
       "      <td>62592.87</td>\n",
       "    </tr>\n",
       "    <tr>\n",
       "      <th>1301</th>\n",
       "      <td>62</td>\n",
       "      <td>male</td>\n",
       "      <td>30.9</td>\n",
       "      <td>3</td>\n",
       "      <td>yes</td>\n",
       "      <td>northwest</td>\n",
       "      <td>46718.16</td>\n",
       "    </tr>\n",
       "    <tr>\n",
       "      <th>1303</th>\n",
       "      <td>43</td>\n",
       "      <td>male</td>\n",
       "      <td>27.8</td>\n",
       "      <td>0</td>\n",
       "      <td>yes</td>\n",
       "      <td>southwest</td>\n",
       "      <td>37829.72</td>\n",
       "    </tr>\n",
       "    <tr>\n",
       "      <th>1313</th>\n",
       "      <td>19</td>\n",
       "      <td>female</td>\n",
       "      <td>34.7</td>\n",
       "      <td>2</td>\n",
       "      <td>yes</td>\n",
       "      <td>southwest</td>\n",
       "      <td>36397.58</td>\n",
       "    </tr>\n",
       "    <tr>\n",
       "      <th>1323</th>\n",
       "      <td>42</td>\n",
       "      <td>female</td>\n",
       "      <td>40.4</td>\n",
       "      <td>2</td>\n",
       "      <td>yes</td>\n",
       "      <td>southeast</td>\n",
       "      <td>43896.38</td>\n",
       "    </tr>\n",
       "  </tbody>\n",
       "</table>\n",
       "<p>139 rows × 7 columns</p>\n",
       "</div>"
      ],
      "text/plain": [
       "      age     sex   bmi  children smoker     region  expenses\n",
       "14     27    male  42.1         0    yes  southeast  39611.76\n",
       "19     30    male  35.3         0    yes  southwest  36837.47\n",
       "23     34  female  31.9         1    yes  northeast  37701.88\n",
       "29     31    male  36.3         2    yes  southwest  38711.00\n",
       "30     22    male  35.6         0    yes  southwest  35585.58\n",
       "...   ...     ...   ...       ...    ...        ...       ...\n",
       "1300   45    male  30.4         0    yes  southeast  62592.87\n",
       "1301   62    male  30.9         3    yes  northwest  46718.16\n",
       "1303   43    male  27.8         0    yes  southwest  37829.72\n",
       "1313   19  female  34.7         2    yes  southwest  36397.58\n",
       "1323   42  female  40.4         2    yes  southeast  43896.38\n",
       "\n",
       "[139 rows x 7 columns]"
      ]
     },
     "execution_count": 49,
     "metadata": {},
     "output_type": "execute_result"
    }
   ],
   "source": [
    "# outliers in \"expenses\" column\n",
    "outliers_exp = premium_df[(premium_df.expenses<lower_limit_exp) | (premium_df.expenses>upper_limit_exp)]\n",
    "outliers_exp"
   ]
  },
  {
   "cell_type": "code",
   "execution_count": 50,
   "id": "62f36ebc",
   "metadata": {},
   "outputs": [
    {
     "data": {
      "text/html": [
       "<div>\n",
       "<style scoped>\n",
       "    .dataframe tbody tr th:only-of-type {\n",
       "        vertical-align: middle;\n",
       "    }\n",
       "\n",
       "    .dataframe tbody tr th {\n",
       "        vertical-align: top;\n",
       "    }\n",
       "\n",
       "    .dataframe thead th {\n",
       "        text-align: right;\n",
       "    }\n",
       "</style>\n",
       "<table border=\"1\" class=\"dataframe\">\n",
       "  <thead>\n",
       "    <tr style=\"text-align: right;\">\n",
       "      <th></th>\n",
       "      <th>age</th>\n",
       "      <th>sex</th>\n",
       "      <th>bmi</th>\n",
       "      <th>children</th>\n",
       "      <th>smoker</th>\n",
       "      <th>region</th>\n",
       "      <th>expenses</th>\n",
       "    </tr>\n",
       "  </thead>\n",
       "  <tbody>\n",
       "    <tr>\n",
       "      <th>0</th>\n",
       "      <td>19</td>\n",
       "      <td>female</td>\n",
       "      <td>27.9</td>\n",
       "      <td>0</td>\n",
       "      <td>yes</td>\n",
       "      <td>southwest</td>\n",
       "      <td>16884.92</td>\n",
       "    </tr>\n",
       "    <tr>\n",
       "      <th>1</th>\n",
       "      <td>18</td>\n",
       "      <td>male</td>\n",
       "      <td>33.8</td>\n",
       "      <td>1</td>\n",
       "      <td>no</td>\n",
       "      <td>southeast</td>\n",
       "      <td>1725.55</td>\n",
       "    </tr>\n",
       "    <tr>\n",
       "      <th>2</th>\n",
       "      <td>28</td>\n",
       "      <td>male</td>\n",
       "      <td>33.0</td>\n",
       "      <td>3</td>\n",
       "      <td>no</td>\n",
       "      <td>southeast</td>\n",
       "      <td>4449.46</td>\n",
       "    </tr>\n",
       "    <tr>\n",
       "      <th>3</th>\n",
       "      <td>33</td>\n",
       "      <td>male</td>\n",
       "      <td>22.7</td>\n",
       "      <td>0</td>\n",
       "      <td>no</td>\n",
       "      <td>northwest</td>\n",
       "      <td>21984.47</td>\n",
       "    </tr>\n",
       "    <tr>\n",
       "      <th>4</th>\n",
       "      <td>32</td>\n",
       "      <td>male</td>\n",
       "      <td>28.9</td>\n",
       "      <td>0</td>\n",
       "      <td>no</td>\n",
       "      <td>northwest</td>\n",
       "      <td>3866.86</td>\n",
       "    </tr>\n",
       "    <tr>\n",
       "      <th>...</th>\n",
       "      <td>...</td>\n",
       "      <td>...</td>\n",
       "      <td>...</td>\n",
       "      <td>...</td>\n",
       "      <td>...</td>\n",
       "      <td>...</td>\n",
       "      <td>...</td>\n",
       "    </tr>\n",
       "    <tr>\n",
       "      <th>1333</th>\n",
       "      <td>50</td>\n",
       "      <td>male</td>\n",
       "      <td>31.0</td>\n",
       "      <td>3</td>\n",
       "      <td>no</td>\n",
       "      <td>northwest</td>\n",
       "      <td>10600.55</td>\n",
       "    </tr>\n",
       "    <tr>\n",
       "      <th>1334</th>\n",
       "      <td>18</td>\n",
       "      <td>female</td>\n",
       "      <td>31.9</td>\n",
       "      <td>0</td>\n",
       "      <td>no</td>\n",
       "      <td>northeast</td>\n",
       "      <td>2205.98</td>\n",
       "    </tr>\n",
       "    <tr>\n",
       "      <th>1335</th>\n",
       "      <td>18</td>\n",
       "      <td>female</td>\n",
       "      <td>36.9</td>\n",
       "      <td>0</td>\n",
       "      <td>no</td>\n",
       "      <td>southeast</td>\n",
       "      <td>1629.83</td>\n",
       "    </tr>\n",
       "    <tr>\n",
       "      <th>1336</th>\n",
       "      <td>21</td>\n",
       "      <td>female</td>\n",
       "      <td>25.8</td>\n",
       "      <td>0</td>\n",
       "      <td>no</td>\n",
       "      <td>southwest</td>\n",
       "      <td>2007.95</td>\n",
       "    </tr>\n",
       "    <tr>\n",
       "      <th>1337</th>\n",
       "      <td>61</td>\n",
       "      <td>female</td>\n",
       "      <td>29.1</td>\n",
       "      <td>0</td>\n",
       "      <td>yes</td>\n",
       "      <td>northwest</td>\n",
       "      <td>29141.36</td>\n",
       "    </tr>\n",
       "  </tbody>\n",
       "</table>\n",
       "<p>1198 rows × 7 columns</p>\n",
       "</div>"
      ],
      "text/plain": [
       "      age     sex   bmi  children smoker     region  expenses\n",
       "0      19  female  27.9         0    yes  southwest  16884.92\n",
       "1      18    male  33.8         1     no  southeast   1725.55\n",
       "2      28    male  33.0         3     no  southeast   4449.46\n",
       "3      33    male  22.7         0     no  northwest  21984.47\n",
       "4      32    male  28.9         0     no  northwest   3866.86\n",
       "...   ...     ...   ...       ...    ...        ...       ...\n",
       "1333   50    male  31.0         3     no  northwest  10600.55\n",
       "1334   18  female  31.9         0     no  northeast   2205.98\n",
       "1335   18  female  36.9         0     no  southeast   1629.83\n",
       "1336   21  female  25.8         0     no  southwest   2007.95\n",
       "1337   61  female  29.1         0    yes  northwest  29141.36\n",
       "\n",
       "[1198 rows x 7 columns]"
      ]
     },
     "execution_count": 50,
     "metadata": {},
     "output_type": "execute_result"
    }
   ],
   "source": [
    "# data with no outliers in \"expenses\" column\n",
    "no_outlier_exp = premium_df[(premium_df.expenses > lower_limit_exp) & (premium_df.expenses < upper_limit_exp)]\n",
    "no_outlier_exp"
   ]
  },
  {
   "cell_type": "code",
   "execution_count": 51,
   "id": "64d203ab",
   "metadata": {},
   "outputs": [
    {
     "data": {
      "text/plain": [
       "(26.3, 34.7)"
      ]
     },
     "execution_count": 51,
     "metadata": {},
     "output_type": "execute_result"
    }
   ],
   "source": [
    "# finding quartiles for column \"bmi\"\n",
    "q1 = premium_df.bmi.quantile(0.25)\n",
    "q3 = premium_df.bmi.quantile(0.75)\n",
    "q1,q3"
   ]
  },
  {
   "cell_type": "code",
   "execution_count": 52,
   "id": "e32eee94",
   "metadata": {},
   "outputs": [
    {
     "data": {
      "text/plain": [
       "8.400000000000002"
      ]
     },
     "execution_count": 52,
     "metadata": {},
     "output_type": "execute_result"
    }
   ],
   "source": [
    "# Inter Quartile Range for \"bmi\"\n",
    "iqr = q3 - q1\n",
    "iqr "
   ]
  },
  {
   "cell_type": "code",
   "execution_count": 53,
   "id": "9922c22d",
   "metadata": {},
   "outputs": [
    {
     "data": {
      "text/plain": [
       "(13.699999999999998, 47.300000000000004)"
      ]
     },
     "execution_count": 53,
     "metadata": {},
     "output_type": "execute_result"
    }
   ],
   "source": [
    "# finding upper limit and lower limit for \"bmi\"\n",
    "lower_limit_bmi = q1 - 1.5*iqr\n",
    "upper_limit_bmi = q3 + 1.5*iqr\n",
    "lower_limit_bmi , upper_limit_bmi"
   ]
  },
  {
   "cell_type": "code",
   "execution_count": 54,
   "id": "021ae004",
   "metadata": {},
   "outputs": [
    {
     "data": {
      "text/html": [
       "<div>\n",
       "<style scoped>\n",
       "    .dataframe tbody tr th:only-of-type {\n",
       "        vertical-align: middle;\n",
       "    }\n",
       "\n",
       "    .dataframe tbody tr th {\n",
       "        vertical-align: top;\n",
       "    }\n",
       "\n",
       "    .dataframe thead th {\n",
       "        text-align: right;\n",
       "    }\n",
       "</style>\n",
       "<table border=\"1\" class=\"dataframe\">\n",
       "  <thead>\n",
       "    <tr style=\"text-align: right;\">\n",
       "      <th></th>\n",
       "      <th>age</th>\n",
       "      <th>sex</th>\n",
       "      <th>bmi</th>\n",
       "      <th>children</th>\n",
       "      <th>smoker</th>\n",
       "      <th>region</th>\n",
       "      <th>expenses</th>\n",
       "    </tr>\n",
       "  </thead>\n",
       "  <tbody>\n",
       "    <tr>\n",
       "      <th>116</th>\n",
       "      <td>58</td>\n",
       "      <td>male</td>\n",
       "      <td>49.1</td>\n",
       "      <td>0</td>\n",
       "      <td>no</td>\n",
       "      <td>southeast</td>\n",
       "      <td>11381.33</td>\n",
       "    </tr>\n",
       "    <tr>\n",
       "      <th>286</th>\n",
       "      <td>46</td>\n",
       "      <td>female</td>\n",
       "      <td>48.1</td>\n",
       "      <td>2</td>\n",
       "      <td>no</td>\n",
       "      <td>northeast</td>\n",
       "      <td>9432.93</td>\n",
       "    </tr>\n",
       "    <tr>\n",
       "      <th>401</th>\n",
       "      <td>47</td>\n",
       "      <td>male</td>\n",
       "      <td>47.5</td>\n",
       "      <td>1</td>\n",
       "      <td>no</td>\n",
       "      <td>southeast</td>\n",
       "      <td>8083.92</td>\n",
       "    </tr>\n",
       "    <tr>\n",
       "      <th>543</th>\n",
       "      <td>54</td>\n",
       "      <td>female</td>\n",
       "      <td>47.4</td>\n",
       "      <td>0</td>\n",
       "      <td>yes</td>\n",
       "      <td>southeast</td>\n",
       "      <td>63770.43</td>\n",
       "    </tr>\n",
       "    <tr>\n",
       "      <th>847</th>\n",
       "      <td>23</td>\n",
       "      <td>male</td>\n",
       "      <td>50.4</td>\n",
       "      <td>1</td>\n",
       "      <td>no</td>\n",
       "      <td>southeast</td>\n",
       "      <td>2438.06</td>\n",
       "    </tr>\n",
       "    <tr>\n",
       "      <th>860</th>\n",
       "      <td>37</td>\n",
       "      <td>female</td>\n",
       "      <td>47.6</td>\n",
       "      <td>2</td>\n",
       "      <td>yes</td>\n",
       "      <td>southwest</td>\n",
       "      <td>46113.51</td>\n",
       "    </tr>\n",
       "    <tr>\n",
       "      <th>1047</th>\n",
       "      <td>22</td>\n",
       "      <td>male</td>\n",
       "      <td>52.6</td>\n",
       "      <td>1</td>\n",
       "      <td>yes</td>\n",
       "      <td>southeast</td>\n",
       "      <td>44501.40</td>\n",
       "    </tr>\n",
       "    <tr>\n",
       "      <th>1088</th>\n",
       "      <td>52</td>\n",
       "      <td>male</td>\n",
       "      <td>47.7</td>\n",
       "      <td>1</td>\n",
       "      <td>no</td>\n",
       "      <td>southeast</td>\n",
       "      <td>9748.91</td>\n",
       "    </tr>\n",
       "    <tr>\n",
       "      <th>1317</th>\n",
       "      <td>18</td>\n",
       "      <td>male</td>\n",
       "      <td>53.1</td>\n",
       "      <td>0</td>\n",
       "      <td>no</td>\n",
       "      <td>southeast</td>\n",
       "      <td>1163.46</td>\n",
       "    </tr>\n",
       "  </tbody>\n",
       "</table>\n",
       "</div>"
      ],
      "text/plain": [
       "      age     sex   bmi  children smoker     region  expenses\n",
       "116    58    male  49.1         0     no  southeast  11381.33\n",
       "286    46  female  48.1         2     no  northeast   9432.93\n",
       "401    47    male  47.5         1     no  southeast   8083.92\n",
       "543    54  female  47.4         0    yes  southeast  63770.43\n",
       "847    23    male  50.4         1     no  southeast   2438.06\n",
       "860    37  female  47.6         2    yes  southwest  46113.51\n",
       "1047   22    male  52.6         1    yes  southeast  44501.40\n",
       "1088   52    male  47.7         1     no  southeast   9748.91\n",
       "1317   18    male  53.1         0     no  southeast   1163.46"
      ]
     },
     "execution_count": 54,
     "metadata": {},
     "output_type": "execute_result"
    }
   ],
   "source": [
    "# outliers in \"bmi\" column\n",
    "outliers_bmi = premium_df[(premium_df.bmi < lower_limit_bmi) | (premium_df.bmi > upper_limit_bmi)]\n",
    "outliers_bmi"
   ]
  },
  {
   "cell_type": "code",
   "execution_count": 55,
   "id": "d7bedcff",
   "metadata": {},
   "outputs": [
    {
     "data": {
      "text/html": [
       "<div>\n",
       "<style scoped>\n",
       "    .dataframe tbody tr th:only-of-type {\n",
       "        vertical-align: middle;\n",
       "    }\n",
       "\n",
       "    .dataframe tbody tr th {\n",
       "        vertical-align: top;\n",
       "    }\n",
       "\n",
       "    .dataframe thead th {\n",
       "        text-align: right;\n",
       "    }\n",
       "</style>\n",
       "<table border=\"1\" class=\"dataframe\">\n",
       "  <thead>\n",
       "    <tr style=\"text-align: right;\">\n",
       "      <th></th>\n",
       "      <th>age</th>\n",
       "      <th>sex</th>\n",
       "      <th>bmi</th>\n",
       "      <th>children</th>\n",
       "      <th>smoker</th>\n",
       "      <th>region</th>\n",
       "      <th>expenses</th>\n",
       "    </tr>\n",
       "  </thead>\n",
       "  <tbody>\n",
       "    <tr>\n",
       "      <th>0</th>\n",
       "      <td>19</td>\n",
       "      <td>female</td>\n",
       "      <td>27.9</td>\n",
       "      <td>0</td>\n",
       "      <td>yes</td>\n",
       "      <td>southwest</td>\n",
       "      <td>16884.92</td>\n",
       "    </tr>\n",
       "    <tr>\n",
       "      <th>1</th>\n",
       "      <td>18</td>\n",
       "      <td>male</td>\n",
       "      <td>33.8</td>\n",
       "      <td>1</td>\n",
       "      <td>no</td>\n",
       "      <td>southeast</td>\n",
       "      <td>1725.55</td>\n",
       "    </tr>\n",
       "    <tr>\n",
       "      <th>2</th>\n",
       "      <td>28</td>\n",
       "      <td>male</td>\n",
       "      <td>33.0</td>\n",
       "      <td>3</td>\n",
       "      <td>no</td>\n",
       "      <td>southeast</td>\n",
       "      <td>4449.46</td>\n",
       "    </tr>\n",
       "    <tr>\n",
       "      <th>3</th>\n",
       "      <td>33</td>\n",
       "      <td>male</td>\n",
       "      <td>22.7</td>\n",
       "      <td>0</td>\n",
       "      <td>no</td>\n",
       "      <td>northwest</td>\n",
       "      <td>21984.47</td>\n",
       "    </tr>\n",
       "    <tr>\n",
       "      <th>4</th>\n",
       "      <td>32</td>\n",
       "      <td>male</td>\n",
       "      <td>28.9</td>\n",
       "      <td>0</td>\n",
       "      <td>no</td>\n",
       "      <td>northwest</td>\n",
       "      <td>3866.86</td>\n",
       "    </tr>\n",
       "    <tr>\n",
       "      <th>...</th>\n",
       "      <td>...</td>\n",
       "      <td>...</td>\n",
       "      <td>...</td>\n",
       "      <td>...</td>\n",
       "      <td>...</td>\n",
       "      <td>...</td>\n",
       "      <td>...</td>\n",
       "    </tr>\n",
       "    <tr>\n",
       "      <th>1333</th>\n",
       "      <td>50</td>\n",
       "      <td>male</td>\n",
       "      <td>31.0</td>\n",
       "      <td>3</td>\n",
       "      <td>no</td>\n",
       "      <td>northwest</td>\n",
       "      <td>10600.55</td>\n",
       "    </tr>\n",
       "    <tr>\n",
       "      <th>1334</th>\n",
       "      <td>18</td>\n",
       "      <td>female</td>\n",
       "      <td>31.9</td>\n",
       "      <td>0</td>\n",
       "      <td>no</td>\n",
       "      <td>northeast</td>\n",
       "      <td>2205.98</td>\n",
       "    </tr>\n",
       "    <tr>\n",
       "      <th>1335</th>\n",
       "      <td>18</td>\n",
       "      <td>female</td>\n",
       "      <td>36.9</td>\n",
       "      <td>0</td>\n",
       "      <td>no</td>\n",
       "      <td>southeast</td>\n",
       "      <td>1629.83</td>\n",
       "    </tr>\n",
       "    <tr>\n",
       "      <th>1336</th>\n",
       "      <td>21</td>\n",
       "      <td>female</td>\n",
       "      <td>25.8</td>\n",
       "      <td>0</td>\n",
       "      <td>no</td>\n",
       "      <td>southwest</td>\n",
       "      <td>2007.95</td>\n",
       "    </tr>\n",
       "    <tr>\n",
       "      <th>1337</th>\n",
       "      <td>61</td>\n",
       "      <td>female</td>\n",
       "      <td>29.1</td>\n",
       "      <td>0</td>\n",
       "      <td>yes</td>\n",
       "      <td>northwest</td>\n",
       "      <td>29141.36</td>\n",
       "    </tr>\n",
       "  </tbody>\n",
       "</table>\n",
       "<p>1328 rows × 7 columns</p>\n",
       "</div>"
      ],
      "text/plain": [
       "      age     sex   bmi  children smoker     region  expenses\n",
       "0      19  female  27.9         0    yes  southwest  16884.92\n",
       "1      18    male  33.8         1     no  southeast   1725.55\n",
       "2      28    male  33.0         3     no  southeast   4449.46\n",
       "3      33    male  22.7         0     no  northwest  21984.47\n",
       "4      32    male  28.9         0     no  northwest   3866.86\n",
       "...   ...     ...   ...       ...    ...        ...       ...\n",
       "1333   50    male  31.0         3     no  northwest  10600.55\n",
       "1334   18  female  31.9         0     no  northeast   2205.98\n",
       "1335   18  female  36.9         0     no  southeast   1629.83\n",
       "1336   21  female  25.8         0     no  southwest   2007.95\n",
       "1337   61  female  29.1         0    yes  northwest  29141.36\n",
       "\n",
       "[1328 rows x 7 columns]"
      ]
     },
     "execution_count": 55,
     "metadata": {},
     "output_type": "execute_result"
    }
   ],
   "source": [
    "# data with no outlier in \"bmi\" column\n",
    "no_outlier_bmi = premium_df[(premium_df.bmi > lower_limit_bmi) & (premium_df.bmi < upper_limit_bmi)]\n",
    "no_outlier_bmi"
   ]
  },
  {
   "cell_type": "code",
   "execution_count": 56,
   "id": "30747bca",
   "metadata": {},
   "outputs": [
    {
     "name": "stdout",
     "output_type": "stream",
     "text": [
      "(1192, 7)\n"
     ]
    },
    {
     "data": {
      "text/html": [
       "<div>\n",
       "<style scoped>\n",
       "    .dataframe tbody tr th:only-of-type {\n",
       "        vertical-align: middle;\n",
       "    }\n",
       "\n",
       "    .dataframe tbody tr th {\n",
       "        vertical-align: top;\n",
       "    }\n",
       "\n",
       "    .dataframe thead th {\n",
       "        text-align: right;\n",
       "    }\n",
       "</style>\n",
       "<table border=\"1\" class=\"dataframe\">\n",
       "  <thead>\n",
       "    <tr style=\"text-align: right;\">\n",
       "      <th></th>\n",
       "      <th>age</th>\n",
       "      <th>sex</th>\n",
       "      <th>bmi</th>\n",
       "      <th>children</th>\n",
       "      <th>smoker</th>\n",
       "      <th>region</th>\n",
       "      <th>expenses</th>\n",
       "    </tr>\n",
       "  </thead>\n",
       "  <tbody>\n",
       "    <tr>\n",
       "      <th>0</th>\n",
       "      <td>19</td>\n",
       "      <td>female</td>\n",
       "      <td>27.9</td>\n",
       "      <td>0</td>\n",
       "      <td>yes</td>\n",
       "      <td>southwest</td>\n",
       "      <td>16884.92</td>\n",
       "    </tr>\n",
       "    <tr>\n",
       "      <th>1</th>\n",
       "      <td>18</td>\n",
       "      <td>male</td>\n",
       "      <td>33.8</td>\n",
       "      <td>1</td>\n",
       "      <td>no</td>\n",
       "      <td>southeast</td>\n",
       "      <td>1725.55</td>\n",
       "    </tr>\n",
       "    <tr>\n",
       "      <th>2</th>\n",
       "      <td>28</td>\n",
       "      <td>male</td>\n",
       "      <td>33.0</td>\n",
       "      <td>3</td>\n",
       "      <td>no</td>\n",
       "      <td>southeast</td>\n",
       "      <td>4449.46</td>\n",
       "    </tr>\n",
       "    <tr>\n",
       "      <th>3</th>\n",
       "      <td>33</td>\n",
       "      <td>male</td>\n",
       "      <td>22.7</td>\n",
       "      <td>0</td>\n",
       "      <td>no</td>\n",
       "      <td>northwest</td>\n",
       "      <td>21984.47</td>\n",
       "    </tr>\n",
       "    <tr>\n",
       "      <th>4</th>\n",
       "      <td>32</td>\n",
       "      <td>male</td>\n",
       "      <td>28.9</td>\n",
       "      <td>0</td>\n",
       "      <td>no</td>\n",
       "      <td>northwest</td>\n",
       "      <td>3866.86</td>\n",
       "    </tr>\n",
       "  </tbody>\n",
       "</table>\n",
       "</div>"
      ],
      "text/plain": [
       "   age     sex   bmi  children smoker     region  expenses\n",
       "0   19  female  27.9         0    yes  southwest  16884.92\n",
       "1   18    male  33.8         1     no  southeast   1725.55\n",
       "2   28    male  33.0         3     no  southeast   4449.46\n",
       "3   33    male  22.7         0     no  northwest  21984.47\n",
       "4   32    male  28.9         0     no  northwest   3866.86"
      ]
     },
     "execution_count": 56,
     "metadata": {},
     "output_type": "execute_result"
    }
   ],
   "source": [
    "# merging of data ( data without outliers)\n",
    "data = pd.merge(no_outlier_exp, no_outlier_bmi,how =\"inner\",on=['age', 'sex', 'bmi', 'children', 'smoker', 'region','expenses'])\n",
    "print(data.shape)\n",
    "data.head()"
   ]
  },
  {
   "cell_type": "code",
   "execution_count": 57,
   "id": "a919e47d",
   "metadata": {},
   "outputs": [
    {
     "data": {
      "image/png": "[encoded data removed]",
      "text/plain": [
       "<Figure size 720x504 with 1 Axes>"
      ]
     },
     "metadata": {
      "needs_background": "light"
     },
     "output_type": "display_data"
    }
   ],
   "source": [
    "# rechecking for outliers for \"bmi\" feature\n",
    "plt.figure(figsize=(10,7))\n",
    "sns.boxplot(data['bmi']) \n",
    "plt.show()"
   ]
  },
  {
   "cell_type": "code",
   "execution_count": 58,
   "id": "39ceda00",
   "metadata": {},
   "outputs": [
    {
     "data": {
      "image/png": "[encoded data removed]",
      "text/plain": [
       "<Figure size 720x504 with 1 Axes>"
      ]
     },
     "metadata": {
      "needs_background": "light"
     },
     "output_type": "display_data"
    }
   ],
   "source": [
    "# rechecking for outliers for \"expenses\" feature\n",
    "plt.figure(figsize=(10,7))\n",
    "sns.boxplot(data['expenses']) \n",
    "plt.show()"
   ]
  },
  {
   "cell_type": "markdown",
   "id": "24906692",
   "metadata": {},
   "source": [
    "# Feature Engineering"
   ]
  },
  {
   "cell_type": "code",
   "execution_count": 59,
   "id": "4e11c191",
   "metadata": {},
   "outputs": [],
   "source": [
    "# Applying one-hot encoding on \"Sex\" and \"Smoker\" to convert categorical values into numerical values\n",
    "sex_df = pd.get_dummies(premium_df.sex, prefix = \"sex_\")\n",
    "smoker_df = pd.get_dummies(premium_df.smoker, prefix = \"smoker_\")"
   ]
  },
  {
   "cell_type": "code",
   "execution_count": 60,
   "id": "8501fdd0",
   "metadata": {},
   "outputs": [
    {
     "data": {
      "text/html": [
       "<div>\n",
       "<style scoped>\n",
       "    .dataframe tbody tr th:only-of-type {\n",
       "        vertical-align: middle;\n",
       "    }\n",
       "\n",
       "    .dataframe tbody tr th {\n",
       "        vertical-align: top;\n",
       "    }\n",
       "\n",
       "    .dataframe thead th {\n",
       "        text-align: right;\n",
       "    }\n",
       "</style>\n",
       "<table border=\"1\" class=\"dataframe\">\n",
       "  <thead>\n",
       "    <tr style=\"text-align: right;\">\n",
       "      <th></th>\n",
       "      <th>age</th>\n",
       "      <th>sex</th>\n",
       "      <th>bmi</th>\n",
       "      <th>children</th>\n",
       "      <th>smoker</th>\n",
       "      <th>region</th>\n",
       "      <th>expenses</th>\n",
       "      <th>sex__female</th>\n",
       "      <th>sex__male</th>\n",
       "      <th>smoker__no</th>\n",
       "      <th>smoker__yes</th>\n",
       "    </tr>\n",
       "  </thead>\n",
       "  <tbody>\n",
       "    <tr>\n",
       "      <th>0</th>\n",
       "      <td>19</td>\n",
       "      <td>female</td>\n",
       "      <td>27.9</td>\n",
       "      <td>0</td>\n",
       "      <td>yes</td>\n",
       "      <td>southwest</td>\n",
       "      <td>16884.92</td>\n",
       "      <td>1</td>\n",
       "      <td>0</td>\n",
       "      <td>0</td>\n",
       "      <td>1</td>\n",
       "    </tr>\n",
       "    <tr>\n",
       "      <th>1</th>\n",
       "      <td>18</td>\n",
       "      <td>male</td>\n",
       "      <td>33.8</td>\n",
       "      <td>1</td>\n",
       "      <td>no</td>\n",
       "      <td>southeast</td>\n",
       "      <td>1725.55</td>\n",
       "      <td>0</td>\n",
       "      <td>1</td>\n",
       "      <td>1</td>\n",
       "      <td>0</td>\n",
       "    </tr>\n",
       "    <tr>\n",
       "      <th>2</th>\n",
       "      <td>28</td>\n",
       "      <td>male</td>\n",
       "      <td>33.0</td>\n",
       "      <td>3</td>\n",
       "      <td>no</td>\n",
       "      <td>southeast</td>\n",
       "      <td>4449.46</td>\n",
       "      <td>0</td>\n",
       "      <td>1</td>\n",
       "      <td>1</td>\n",
       "      <td>0</td>\n",
       "    </tr>\n",
       "    <tr>\n",
       "      <th>3</th>\n",
       "      <td>33</td>\n",
       "      <td>male</td>\n",
       "      <td>22.7</td>\n",
       "      <td>0</td>\n",
       "      <td>no</td>\n",
       "      <td>northwest</td>\n",
       "      <td>21984.47</td>\n",
       "      <td>0</td>\n",
       "      <td>1</td>\n",
       "      <td>1</td>\n",
       "      <td>0</td>\n",
       "    </tr>\n",
       "    <tr>\n",
       "      <th>4</th>\n",
       "      <td>32</td>\n",
       "      <td>male</td>\n",
       "      <td>28.9</td>\n",
       "      <td>0</td>\n",
       "      <td>no</td>\n",
       "      <td>northwest</td>\n",
       "      <td>3866.86</td>\n",
       "      <td>0</td>\n",
       "      <td>1</td>\n",
       "      <td>1</td>\n",
       "      <td>0</td>\n",
       "    </tr>\n",
       "  </tbody>\n",
       "</table>\n",
       "</div>"
      ],
      "text/plain": [
       "   age     sex   bmi  children smoker     region  expenses  sex__female  \\\n",
       "0   19  female  27.9         0    yes  southwest  16884.92            1   \n",
       "1   18    male  33.8         1     no  southeast   1725.55            0   \n",
       "2   28    male  33.0         3     no  southeast   4449.46            0   \n",
       "3   33    male  22.7         0     no  northwest  21984.47            0   \n",
       "4   32    male  28.9         0     no  northwest   3866.86            0   \n",
       "\n",
       "   sex__male  smoker__no  smoker__yes  \n",
       "0          0           0            1  \n",
       "1          1           1            0  \n",
       "2          1           1            0  \n",
       "3          1           1            0  \n",
       "4          1           1            0  "
      ]
     },
     "execution_count": 60,
     "metadata": {},
     "output_type": "execute_result"
    }
   ],
   "source": [
    "# concatenation of all dataframes\n",
    "data_final = pd.concat([premium_df, sex_df, smoker_df], axis = 1)\n",
    "data_final.head()"
   ]
  },
  {
   "cell_type": "code",
   "execution_count": 61,
   "id": "9f4f0fe0",
   "metadata": {},
   "outputs": [
    {
     "data": {
      "text/html": [
       "<div>\n",
       "<style scoped>\n",
       "    .dataframe tbody tr th:only-of-type {\n",
       "        vertical-align: middle;\n",
       "    }\n",
       "\n",
       "    .dataframe tbody tr th {\n",
       "        vertical-align: top;\n",
       "    }\n",
       "\n",
       "    .dataframe thead th {\n",
       "        text-align: right;\n",
       "    }\n",
       "</style>\n",
       "<table border=\"1\" class=\"dataframe\">\n",
       "  <thead>\n",
       "    <tr style=\"text-align: right;\">\n",
       "      <th></th>\n",
       "      <th>age</th>\n",
       "      <th>bmi</th>\n",
       "      <th>children</th>\n",
       "      <th>expenses</th>\n",
       "      <th>sex__female</th>\n",
       "      <th>sex__male</th>\n",
       "      <th>smoker__no</th>\n",
       "      <th>smoker__yes</th>\n",
       "    </tr>\n",
       "  </thead>\n",
       "  <tbody>\n",
       "    <tr>\n",
       "      <th>0</th>\n",
       "      <td>19</td>\n",
       "      <td>27.9</td>\n",
       "      <td>0</td>\n",
       "      <td>16884.92</td>\n",
       "      <td>1</td>\n",
       "      <td>0</td>\n",
       "      <td>0</td>\n",
       "      <td>1</td>\n",
       "    </tr>\n",
       "    <tr>\n",
       "      <th>1</th>\n",
       "      <td>18</td>\n",
       "      <td>33.8</td>\n",
       "      <td>1</td>\n",
       "      <td>1725.55</td>\n",
       "      <td>0</td>\n",
       "      <td>1</td>\n",
       "      <td>1</td>\n",
       "      <td>0</td>\n",
       "    </tr>\n",
       "    <tr>\n",
       "      <th>2</th>\n",
       "      <td>28</td>\n",
       "      <td>33.0</td>\n",
       "      <td>3</td>\n",
       "      <td>4449.46</td>\n",
       "      <td>0</td>\n",
       "      <td>1</td>\n",
       "      <td>1</td>\n",
       "      <td>0</td>\n",
       "    </tr>\n",
       "    <tr>\n",
       "      <th>3</th>\n",
       "      <td>33</td>\n",
       "      <td>22.7</td>\n",
       "      <td>0</td>\n",
       "      <td>21984.47</td>\n",
       "      <td>0</td>\n",
       "      <td>1</td>\n",
       "      <td>1</td>\n",
       "      <td>0</td>\n",
       "    </tr>\n",
       "    <tr>\n",
       "      <th>4</th>\n",
       "      <td>32</td>\n",
       "      <td>28.9</td>\n",
       "      <td>0</td>\n",
       "      <td>3866.86</td>\n",
       "      <td>0</td>\n",
       "      <td>1</td>\n",
       "      <td>1</td>\n",
       "      <td>0</td>\n",
       "    </tr>\n",
       "  </tbody>\n",
       "</table>\n",
       "</div>"
      ],
      "text/plain": [
       "   age   bmi  children  expenses  sex__female  sex__male  smoker__no  \\\n",
       "0   19  27.9         0  16884.92            1          0           0   \n",
       "1   18  33.8         1   1725.55            0          1           1   \n",
       "2   28  33.0         3   4449.46            0          1           1   \n",
       "3   33  22.7         0  21984.47            0          1           1   \n",
       "4   32  28.9         0   3866.86            0          1           1   \n",
       "\n",
       "   smoker__yes  \n",
       "0            1  \n",
       "1            0  \n",
       "2            0  \n",
       "3            0  \n",
       "4            0  "
      ]
     },
     "execution_count": 61,
     "metadata": {},
     "output_type": "execute_result"
    }
   ],
   "source": [
    "# dropping unnecessary columns\n",
    "data_final = data_final.drop(['sex','smoker','region'], axis = 1)\n",
    "data_final.head()"
   ]
  },
  {
   "cell_type": "code",
   "execution_count": 62,
   "id": "27d21257",
   "metadata": {},
   "outputs": [
    {
     "data": {
      "text/plain": [
       "(1337, 8)"
      ]
     },
     "execution_count": 62,
     "metadata": {},
     "output_type": "execute_result"
    }
   ],
   "source": [
    "# dimensions of new dataset\n",
    "data_final.shape"
   ]
  },
  {
   "cell_type": "code",
   "execution_count": 63,
   "id": "5fd4c48b",
   "metadata": {},
   "outputs": [
    {
     "data": {
      "text/html": [
       "<div>\n",
       "<style scoped>\n",
       "    .dataframe tbody tr th:only-of-type {\n",
       "        vertical-align: middle;\n",
       "    }\n",
       "\n",
       "    .dataframe tbody tr th {\n",
       "        vertical-align: top;\n",
       "    }\n",
       "\n",
       "    .dataframe thead th {\n",
       "        text-align: right;\n",
       "    }\n",
       "</style>\n",
       "<table border=\"1\" class=\"dataframe\">\n",
       "  <thead>\n",
       "    <tr style=\"text-align: right;\">\n",
       "      <th></th>\n",
       "      <th>age</th>\n",
       "      <th>bmi</th>\n",
       "      <th>children</th>\n",
       "      <th>expenses</th>\n",
       "      <th>sex__female</th>\n",
       "      <th>sex__male</th>\n",
       "      <th>smoker__no</th>\n",
       "      <th>smoker__yes</th>\n",
       "    </tr>\n",
       "  </thead>\n",
       "  <tbody>\n",
       "    <tr>\n",
       "      <th>0</th>\n",
       "      <td>19</td>\n",
       "      <td>27.9</td>\n",
       "      <td>0</td>\n",
       "      <td>16884.9</td>\n",
       "      <td>1</td>\n",
       "      <td>0</td>\n",
       "      <td>0</td>\n",
       "      <td>1</td>\n",
       "    </tr>\n",
       "    <tr>\n",
       "      <th>1</th>\n",
       "      <td>18</td>\n",
       "      <td>33.8</td>\n",
       "      <td>1</td>\n",
       "      <td>1725.6</td>\n",
       "      <td>0</td>\n",
       "      <td>1</td>\n",
       "      <td>1</td>\n",
       "      <td>0</td>\n",
       "    </tr>\n",
       "    <tr>\n",
       "      <th>2</th>\n",
       "      <td>28</td>\n",
       "      <td>33.0</td>\n",
       "      <td>3</td>\n",
       "      <td>4449.5</td>\n",
       "      <td>0</td>\n",
       "      <td>1</td>\n",
       "      <td>1</td>\n",
       "      <td>0</td>\n",
       "    </tr>\n",
       "    <tr>\n",
       "      <th>3</th>\n",
       "      <td>33</td>\n",
       "      <td>22.7</td>\n",
       "      <td>0</td>\n",
       "      <td>21984.5</td>\n",
       "      <td>0</td>\n",
       "      <td>1</td>\n",
       "      <td>1</td>\n",
       "      <td>0</td>\n",
       "    </tr>\n",
       "    <tr>\n",
       "      <th>4</th>\n",
       "      <td>32</td>\n",
       "      <td>28.9</td>\n",
       "      <td>0</td>\n",
       "      <td>3866.9</td>\n",
       "      <td>0</td>\n",
       "      <td>1</td>\n",
       "      <td>1</td>\n",
       "      <td>0</td>\n",
       "    </tr>\n",
       "  </tbody>\n",
       "</table>\n",
       "</div>"
      ],
      "text/plain": [
       "   age   bmi  children  expenses  sex__female  sex__male  smoker__no  \\\n",
       "0   19  27.9         0   16884.9            1          0           0   \n",
       "1   18  33.8         1    1725.6            0          1           1   \n",
       "2   28  33.0         3    4449.5            0          1           1   \n",
       "3   33  22.7         0   21984.5            0          1           1   \n",
       "4   32  28.9         0    3866.9            0          1           1   \n",
       "\n",
       "   smoker__yes  \n",
       "0            1  \n",
       "1            0  \n",
       "2            0  \n",
       "3            0  \n",
       "4            0  "
      ]
     },
     "execution_count": 63,
     "metadata": {},
     "output_type": "execute_result"
    }
   ],
   "source": [
    "data_final['expenses'] = round(data_final['expenses'],1)\n",
    "data_final.head()"
   ]
  },
  {
   "cell_type": "code",
   "execution_count": 64,
   "id": "42e8bd56",
   "metadata": {},
   "outputs": [
    {
     "name": "stdout",
     "output_type": "stream",
     "text": [
      "(1337, 7)\n"
     ]
    }
   ],
   "source": [
    "# separating independent and target features\n",
    "x = data_final.drop(['expenses'],axis =1)\n",
    "y = data_final['expenses']\n",
    "print(x.shape)"
   ]
  },
  {
   "cell_type": "code",
   "execution_count": 65,
   "id": "b9ce0e09",
   "metadata": {},
   "outputs": [],
   "source": [
    "# splitting dataset into training set and test set\n",
    "xtrain, xtest, ytrain, ytest = train_test_split(x, y,test_size = 0.2, random_state = 50)"
   ]
  },
  {
   "cell_type": "code",
   "execution_count": 66,
   "id": "7d97fd68",
   "metadata": {},
   "outputs": [
    {
     "data": {
      "text/html": [
       "<div>\n",
       "<style scoped>\n",
       "    .dataframe tbody tr th:only-of-type {\n",
       "        vertical-align: middle;\n",
       "    }\n",
       "\n",
       "    .dataframe tbody tr th {\n",
       "        vertical-align: top;\n",
       "    }\n",
       "\n",
       "    .dataframe thead th {\n",
       "        text-align: right;\n",
       "    }\n",
       "</style>\n",
       "<table border=\"1\" class=\"dataframe\">\n",
       "  <thead>\n",
       "    <tr style=\"text-align: right;\">\n",
       "      <th></th>\n",
       "      <th>age</th>\n",
       "      <th>bmi</th>\n",
       "      <th>children</th>\n",
       "      <th>sex__female</th>\n",
       "      <th>sex__male</th>\n",
       "      <th>smoker__no</th>\n",
       "      <th>smoker__yes</th>\n",
       "    </tr>\n",
       "  </thead>\n",
       "  <tbody>\n",
       "    <tr>\n",
       "      <th>45</th>\n",
       "      <td>55</td>\n",
       "      <td>37.3</td>\n",
       "      <td>0</td>\n",
       "      <td>0</td>\n",
       "      <td>1</td>\n",
       "      <td>1</td>\n",
       "      <td>0</td>\n",
       "    </tr>\n",
       "    <tr>\n",
       "      <th>201</th>\n",
       "      <td>48</td>\n",
       "      <td>32.2</td>\n",
       "      <td>1</td>\n",
       "      <td>1</td>\n",
       "      <td>0</td>\n",
       "      <td>1</td>\n",
       "      <td>0</td>\n",
       "    </tr>\n",
       "    <tr>\n",
       "      <th>153</th>\n",
       "      <td>42</td>\n",
       "      <td>23.4</td>\n",
       "      <td>0</td>\n",
       "      <td>1</td>\n",
       "      <td>0</td>\n",
       "      <td>0</td>\n",
       "      <td>1</td>\n",
       "    </tr>\n",
       "    <tr>\n",
       "      <th>1132</th>\n",
       "      <td>57</td>\n",
       "      <td>40.3</td>\n",
       "      <td>0</td>\n",
       "      <td>0</td>\n",
       "      <td>1</td>\n",
       "      <td>1</td>\n",
       "      <td>0</td>\n",
       "    </tr>\n",
       "    <tr>\n",
       "      <th>163</th>\n",
       "      <td>32</td>\n",
       "      <td>29.8</td>\n",
       "      <td>2</td>\n",
       "      <td>1</td>\n",
       "      <td>0</td>\n",
       "      <td>1</td>\n",
       "      <td>0</td>\n",
       "    </tr>\n",
       "    <tr>\n",
       "      <th>...</th>\n",
       "      <td>...</td>\n",
       "      <td>...</td>\n",
       "      <td>...</td>\n",
       "      <td>...</td>\n",
       "      <td>...</td>\n",
       "      <td>...</td>\n",
       "      <td>...</td>\n",
       "    </tr>\n",
       "    <tr>\n",
       "      <th>229</th>\n",
       "      <td>47</td>\n",
       "      <td>25.5</td>\n",
       "      <td>2</td>\n",
       "      <td>0</td>\n",
       "      <td>1</td>\n",
       "      <td>1</td>\n",
       "      <td>0</td>\n",
       "    </tr>\n",
       "    <tr>\n",
       "      <th>70</th>\n",
       "      <td>27</td>\n",
       "      <td>24.8</td>\n",
       "      <td>0</td>\n",
       "      <td>1</td>\n",
       "      <td>0</td>\n",
       "      <td>0</td>\n",
       "      <td>1</td>\n",
       "    </tr>\n",
       "    <tr>\n",
       "      <th>132</th>\n",
       "      <td>53</td>\n",
       "      <td>35.9</td>\n",
       "      <td>2</td>\n",
       "      <td>1</td>\n",
       "      <td>0</td>\n",
       "      <td>1</td>\n",
       "      <td>0</td>\n",
       "    </tr>\n",
       "    <tr>\n",
       "      <th>1314</th>\n",
       "      <td>30</td>\n",
       "      <td>23.7</td>\n",
       "      <td>3</td>\n",
       "      <td>1</td>\n",
       "      <td>0</td>\n",
       "      <td>0</td>\n",
       "      <td>1</td>\n",
       "    </tr>\n",
       "    <tr>\n",
       "      <th>109</th>\n",
       "      <td>63</td>\n",
       "      <td>35.1</td>\n",
       "      <td>0</td>\n",
       "      <td>0</td>\n",
       "      <td>1</td>\n",
       "      <td>0</td>\n",
       "      <td>1</td>\n",
       "    </tr>\n",
       "  </tbody>\n",
       "</table>\n",
       "<p>1069 rows × 7 columns</p>\n",
       "</div>"
      ],
      "text/plain": [
       "      age   bmi  children  sex__female  sex__male  smoker__no  smoker__yes\n",
       "45     55  37.3         0            0          1           1            0\n",
       "201    48  32.2         1            1          0           1            0\n",
       "153    42  23.4         0            1          0           0            1\n",
       "1132   57  40.3         0            0          1           1            0\n",
       "163    32  29.8         2            1          0           1            0\n",
       "...   ...   ...       ...          ...        ...         ...          ...\n",
       "229    47  25.5         2            0          1           1            0\n",
       "70     27  24.8         0            1          0           0            1\n",
       "132    53  35.9         2            1          0           1            0\n",
       "1314   30  23.7         3            1          0           0            1\n",
       "109    63  35.1         0            0          1           0            1\n",
       "\n",
       "[1069 rows x 7 columns]"
      ]
     },
     "execution_count": 66,
     "metadata": {},
     "output_type": "execute_result"
    }
   ],
   "source": [
    "xtrain"
   ]
  },
  {
   "cell_type": "code",
   "execution_count": 67,
   "id": "99470021",
   "metadata": {},
   "outputs": [
    {
     "data": {
      "text/html": [
       "<div>\n",
       "<style scoped>\n",
       "    .dataframe tbody tr th:only-of-type {\n",
       "        vertical-align: middle;\n",
       "    }\n",
       "\n",
       "    .dataframe tbody tr th {\n",
       "        vertical-align: top;\n",
       "    }\n",
       "\n",
       "    .dataframe thead th {\n",
       "        text-align: right;\n",
       "    }\n",
       "</style>\n",
       "<table border=\"1\" class=\"dataframe\">\n",
       "  <thead>\n",
       "    <tr style=\"text-align: right;\">\n",
       "      <th></th>\n",
       "      <th>age</th>\n",
       "      <th>bmi</th>\n",
       "      <th>children</th>\n",
       "      <th>sex__female</th>\n",
       "      <th>sex__male</th>\n",
       "      <th>smoker__no</th>\n",
       "      <th>smoker__yes</th>\n",
       "    </tr>\n",
       "  </thead>\n",
       "  <tbody>\n",
       "    <tr>\n",
       "      <th>1106</th>\n",
       "      <td>49</td>\n",
       "      <td>29.9</td>\n",
       "      <td>0</td>\n",
       "      <td>1</td>\n",
       "      <td>0</td>\n",
       "      <td>1</td>\n",
       "      <td>0</td>\n",
       "    </tr>\n",
       "    <tr>\n",
       "      <th>1268</th>\n",
       "      <td>20</td>\n",
       "      <td>33.3</td>\n",
       "      <td>0</td>\n",
       "      <td>1</td>\n",
       "      <td>0</td>\n",
       "      <td>1</td>\n",
       "      <td>0</td>\n",
       "    </tr>\n",
       "    <tr>\n",
       "      <th>287</th>\n",
       "      <td>63</td>\n",
       "      <td>26.2</td>\n",
       "      <td>0</td>\n",
       "      <td>1</td>\n",
       "      <td>0</td>\n",
       "      <td>1</td>\n",
       "      <td>0</td>\n",
       "    </tr>\n",
       "    <tr>\n",
       "      <th>232</th>\n",
       "      <td>19</td>\n",
       "      <td>17.8</td>\n",
       "      <td>0</td>\n",
       "      <td>1</td>\n",
       "      <td>0</td>\n",
       "      <td>1</td>\n",
       "      <td>0</td>\n",
       "    </tr>\n",
       "    <tr>\n",
       "      <th>849</th>\n",
       "      <td>55</td>\n",
       "      <td>32.8</td>\n",
       "      <td>0</td>\n",
       "      <td>0</td>\n",
       "      <td>1</td>\n",
       "      <td>1</td>\n",
       "      <td>0</td>\n",
       "    </tr>\n",
       "    <tr>\n",
       "      <th>...</th>\n",
       "      <td>...</td>\n",
       "      <td>...</td>\n",
       "      <td>...</td>\n",
       "      <td>...</td>\n",
       "      <td>...</td>\n",
       "      <td>...</td>\n",
       "      <td>...</td>\n",
       "    </tr>\n",
       "    <tr>\n",
       "      <th>495</th>\n",
       "      <td>20</td>\n",
       "      <td>27.9</td>\n",
       "      <td>0</td>\n",
       "      <td>0</td>\n",
       "      <td>1</td>\n",
       "      <td>1</td>\n",
       "      <td>0</td>\n",
       "    </tr>\n",
       "    <tr>\n",
       "      <th>278</th>\n",
       "      <td>59</td>\n",
       "      <td>31.8</td>\n",
       "      <td>2</td>\n",
       "      <td>0</td>\n",
       "      <td>1</td>\n",
       "      <td>1</td>\n",
       "      <td>0</td>\n",
       "    </tr>\n",
       "    <tr>\n",
       "      <th>1012</th>\n",
       "      <td>61</td>\n",
       "      <td>33.3</td>\n",
       "      <td>4</td>\n",
       "      <td>1</td>\n",
       "      <td>0</td>\n",
       "      <td>1</td>\n",
       "      <td>0</td>\n",
       "    </tr>\n",
       "    <tr>\n",
       "      <th>203</th>\n",
       "      <td>27</td>\n",
       "      <td>36.1</td>\n",
       "      <td>0</td>\n",
       "      <td>1</td>\n",
       "      <td>0</td>\n",
       "      <td>0</td>\n",
       "      <td>1</td>\n",
       "    </tr>\n",
       "    <tr>\n",
       "      <th>1018</th>\n",
       "      <td>54</td>\n",
       "      <td>35.8</td>\n",
       "      <td>3</td>\n",
       "      <td>1</td>\n",
       "      <td>0</td>\n",
       "      <td>1</td>\n",
       "      <td>0</td>\n",
       "    </tr>\n",
       "  </tbody>\n",
       "</table>\n",
       "<p>268 rows × 7 columns</p>\n",
       "</div>"
      ],
      "text/plain": [
       "      age   bmi  children  sex__female  sex__male  smoker__no  smoker__yes\n",
       "1106   49  29.9         0            1          0           1            0\n",
       "1268   20  33.3         0            1          0           1            0\n",
       "287    63  26.2         0            1          0           1            0\n",
       "232    19  17.8         0            1          0           1            0\n",
       "849    55  32.8         0            0          1           1            0\n",
       "...   ...   ...       ...          ...        ...         ...          ...\n",
       "495    20  27.9         0            0          1           1            0\n",
       "278    59  31.8         2            0          1           1            0\n",
       "1012   61  33.3         4            1          0           1            0\n",
       "203    27  36.1         0            1          0           0            1\n",
       "1018   54  35.8         3            1          0           1            0\n",
       "\n",
       "[268 rows x 7 columns]"
      ]
     },
     "execution_count": 67,
     "metadata": {},
     "output_type": "execute_result"
    }
   ],
   "source": [
    "xtest"
   ]
  },
  {
   "cell_type": "code",
   "execution_count": 68,
   "id": "10dc5016",
   "metadata": {},
   "outputs": [],
   "source": [
    "# standardizing the dataset \n",
    "scaler = StandardScaler()"
   ]
  },
  {
   "cell_type": "code",
   "execution_count": 69,
   "id": "e65f9b1b",
   "metadata": {},
   "outputs": [
    {
     "data": {
      "text/plain": [
       "array([[ 1.14429046,  1.08363412, -0.90040547, ...,  0.96235447,\n",
       "         0.504673  , -0.504673  ],\n",
       "       [ 0.6471224 ,  0.25528555, -0.06776408, ..., -1.03911815,\n",
       "         0.504673  , -0.504673  ],\n",
       "       [ 0.22097835, -1.17402179, -0.90040547, ..., -1.03911815,\n",
       "        -1.98148108,  1.98148108],\n",
       "       ...,\n",
       "       [ 1.00224245,  0.85624431,  0.76487731, ..., -1.03911815,\n",
       "         0.504673  , -0.504673  ],\n",
       "       [-0.63130976, -1.12529541,  1.5975187 , ..., -1.03911815,\n",
       "        -1.98148108,  1.98148108],\n",
       "       [ 1.71248254,  0.72630728, -0.90040547, ...,  0.96235447,\n",
       "        -1.98148108,  1.98148108]])"
      ]
     },
     "execution_count": 69,
     "metadata": {},
     "output_type": "execute_result"
    }
   ],
   "source": [
    "xtrain = scaler.fit_transform(xtrain)\n",
    "xtrain"
   ]
  },
  {
   "cell_type": "code",
   "execution_count": 70,
   "id": "4e440ae6",
   "metadata": {},
   "outputs": [
    {
     "data": {
      "text/plain": [
       "array([[ 0.71814641, -0.11828342, -0.90040547, ..., -1.03911815,\n",
       "         0.504673  , -0.504673  ],\n",
       "       [-1.34154985,  0.43394896, -0.90040547, ..., -1.03911815,\n",
       "         0.504673  , -0.504673  ],\n",
       "       [ 1.71248254, -0.71924218, -0.90040547, ..., -1.03911815,\n",
       "         0.504673  , -0.504673  ],\n",
       "       ...,\n",
       "       [ 1.57043452,  0.43394896,  2.43016009, ..., -1.03911815,\n",
       "         0.504673  , -0.504673  ],\n",
       "       [-0.84438179,  0.88872857, -0.90040547, ..., -1.03911815,\n",
       "        -1.98148108,  1.98148108],\n",
       "       [ 1.07326646,  0.84000218,  1.5975187 , ..., -1.03911815,\n",
       "         0.504673  , -0.504673  ]])"
      ]
     },
     "execution_count": 70,
     "metadata": {},
     "output_type": "execute_result"
    }
   ],
   "source": [
    "xtest = scaler.transform(xtest)\n",
    "xtest"
   ]
  },
  {
   "cell_type": "markdown",
   "id": "75b58a54",
   "metadata": {},
   "source": [
    "# Model Training and Selection"
   ]
  },
  {
   "cell_type": "markdown",
   "id": "28bd365a",
   "metadata": {},
   "source": [
    "# Linear Regression"
   ]
  },
  {
   "cell_type": "code",
   "execution_count": 71,
   "id": "d2f75cc5",
   "metadata": {},
   "outputs": [
    {
     "data": {
      "text/plain": [
       "array([10298.09023582,  3890.46402683, 12776.86809566,  -992.69529655,\n",
       "       12747.6730165 , 27301.83300889, 14085.62765407, 30969.21348246,\n",
       "        4092.26546979, 37132.00922378, 34672.98491418, 14305.30331911,\n",
       "        7116.18395332, 27068.32598866,  5123.24518751, 14972.27893452,\n",
       "        4280.16940015, 33209.91293037, 28940.85430567, 17349.923594  ,\n",
       "        9578.6173695 , 38042.83458719, 11224.89513992, 11300.98493648,\n",
       "       12170.63390606,  8801.41799336, 12599.02669166,  5611.59737   ,\n",
       "       16184.0175078 ,  5788.94711898, 12704.07341649,  8374.4128809 ,\n",
       "        4871.20607798, 13209.06300689,  9698.26730593, 29539.07551845,\n",
       "       35615.80881912, 11547.63555649, 10976.51605074,  7782.41699995,\n",
       "        6848.25259501, 13430.0996478 ,  5756.58367449,  6994.13491762,\n",
       "       38102.37426775, 36746.05375308, 10894.65750847,  8604.29934093,\n",
       "       32771.3334567 , 12162.68010506,  6591.06314685,  5197.4034329 ,\n",
       "       15792.01568035,  7508.93093991, 37232.76475831, 14999.09026764,\n",
       "       12138.14370951,  4727.58333972,  6997.51732693, 15439.71528166,\n",
       "       16935.49150601,  8261.17420418, 11911.38615467, 10960.53651004,\n",
       "        1161.61367754, 14627.38586845,  3661.06922182, 11454.0364408 ,\n",
       "       24942.95858961,  9402.01018931, 33780.778932  , 17578.78728385,\n",
       "       11353.39489547, 34501.0364176 ,  9808.37707747,  4629.70579661,\n",
       "       39949.12937505, 25645.4686052 , 27868.29383103, 14162.82751273,\n",
       "        3076.11577053, 18562.04242346,  9403.15971155,  6037.6038192 ,\n",
       "        5206.25325203,  7049.80053385,  2914.12715516, 14987.02425141,\n",
       "        4014.77264687,  2040.73087332,  4437.11907572, 10464.86428686,\n",
       "        8862.14665631,  4258.78601671,  8268.87450106, 34925.89593491,\n",
       "        7061.66785933,  8690.68981475, 24596.70195732,  6134.95024715,\n",
       "       13131.57018397,  8528.57444732, 32514.39751266,  6917.17320986,\n",
       "        6609.70663499,  2876.61337205, 10149.20576009, 12713.01052752,\n",
       "        5034.83587061,  6703.43250273,  7790.60895185,   381.68975931,\n",
       "       15348.13500907, 11889.59840812,  1277.27815081, 14034.1137132 ,\n",
       "        3537.78337196,  1848.35819641,  3581.59701595,  -168.38715903,\n",
       "       15144.71908612,  4293.04414258,  7799.14169978,  3755.03324046,\n",
       "       36655.59889581, 11288.79216819, 34969.87320075,  2096.52324161,\n",
       "        5247.55380755, 11136.10556683,  5866.14697764,  9270.36617535,\n",
       "        9466.86642071, 29651.15191006,  7376.17686385, 31222.03721128,\n",
       "        7973.47394241,  4954.70579751,  7889.59655705,  5871.42406833,\n",
       "       13272.30216794, 14530.78459965, 10575.21220929, 13165.0831507 ,\n",
       "        2355.85828492,  7399.35228354, 13630.6642766 , 13721.33317785,\n",
       "       26899.29235329, 11534.54677008, 14198.23516084,  6584.0207172 ,\n",
       "       30825.01179726,  5997.29933658,  4531.08309436, 37607.63752283,\n",
       "       33658.7298963 ,  9065.80073016, 25514.48245846, 12035.36933189,\n",
       "        9514.74444814, 11246.70699338, 12277.85292331,  3098.79953519,\n",
       "        6152.07931008, 11275.79067371, 12977.68622858, 31024.8790987 ,\n",
       "       11023.49806005,  6101.22323644,  3699.1141201 , 11501.51010514,\n",
       "       15281.25993459, 35964.0842945 , 34175.16709585,  8802.5675156 ,\n",
       "        9117.44142309, 29647.53134985,  3353.11099193,  9620.53633211,\n",
       "        6668.02485462,  8260.5557971 , 11795.63438948, 15583.29855979,\n",
       "       36919.61672965,  3899.27438581,  9553.78800969, 33012.55612704,\n",
       "       13659.49445281, 14448.63309311, 31865.82464413, 12332.98742438,\n",
       "       11198.57546182, 12824.14306924, 12900.44690978, 32706.23907441,\n",
       "        5823.69689987, 38830.82370525,  4574.31779141, 33871.36054133,\n",
       "       15958.4094752 , 32701.42953182,  8890.23167337,  9045.17785908,\n",
       "       27869.93500829,  9705.56323971, 15033.62600455,  6049.17818041,\n",
       "       28961.65874218, 28495.33245713,  6301.38350214,  5188.22817097,\n",
       "       10397.73570825, 35364.38811667,  7326.55760437,  1562.67936809,\n",
       "       11216.48914404, 30658.49125034, 39214.99848376,  1288.85251201,\n",
       "       32386.79377523, 14561.00244899, 30998.93967678,  5253.23526134,\n",
       "        9743.60813799,  5960.61800452,   411.5427057 ,  4817.54654197,\n",
       "        4887.06145697,  2816.90747928,  7000.5589402 ,  7273.80684934,\n",
       "        5609.95619274,  6354.00750511,  4434.07746245, 12209.55071554,\n",
       "        3938.59555839, 13459.95259418, 36761.54163876, 28832.16032337,\n",
       "       11066.20164195,  5208.39884718,  6186.33743596,  8255.78571465,\n",
       "       13625.47447783, 18113.09870547,  3251.70018054, 11335.00491146,\n",
       "       12012.92371812, 12912.91728911,  5696.49752554,  8161.29058085,\n",
       "       27421.1575025 , 13102.37510481, 10422.20016511, 11566.77069964,\n",
       "       14953.62268352, 25824.58628349, 14743.62928865, 15400.02920613,\n",
       "       25975.49219267, 12031.34440859,  4403.64556913,  2326.5364537 ,\n",
       "       14292.4526836 , 16023.51921072, 30021.61949508, 14568.42513483])"
      ]
     },
     "execution_count": 71,
     "metadata": {},
     "output_type": "execute_result"
    }
   ],
   "source": [
    "lr = LinearRegression()\n",
    "lr.fit(xtrain,ytrain)\n",
    "lr_pred = lr.predict(xtest)\n",
    "lr_pred"
   ]
  },
  {
   "cell_type": "code",
   "execution_count": 72,
   "id": "9d451b3d",
   "metadata": {},
   "outputs": [
    {
     "data": {
      "text/plain": [
       "<matplotlib.collections.PathCollection at 0x2b115b4e6a0>"
      ]
     },
     "execution_count": 72,
     "metadata": {},
     "output_type": "execute_result"
    },
    {
     "data": {
      "image/png": "[encoded data removed]",
      "text/plain": [
       "<Figure size 432x288 with 1 Axes>"
      ]
     },
     "metadata": {
      "needs_background": "light"
     },
     "output_type": "display_data"
    }
   ],
   "source": [
    "plt.scatter(ytest,lr_pred)"
   ]
  },
  {
   "cell_type": "code",
   "execution_count": 73,
   "id": "d7c2ca79",
   "metadata": {},
   "outputs": [
    {
     "data": {
      "text/plain": [
       "1106    -1309.890236\n",
       "1268    -2009.964027\n",
       "287      1479.331904\n",
       "232      2720.495297\n",
       "849     -2146.073016\n",
       "            ...     \n",
       "495      -359.536454\n",
       "278     -1363.652684\n",
       "1012    20556.780789\n",
       "203      7112.280505\n",
       "1018    -2073.125135\n",
       "Name: expenses, Length: 268, dtype: float64"
      ]
     },
     "execution_count": 73,
     "metadata": {},
     "output_type": "execute_result"
    }
   ],
   "source": [
    "lr_residuals = ytest - lr_pred\n",
    "lr_residuals"
   ]
  },
  {
   "cell_type": "code",
   "execution_count": 74,
   "id": "0d2bb7d1",
   "metadata": {},
   "outputs": [
    {
     "data": {
      "text/plain": [
       "<seaborn.axisgrid.FacetGrid at 0x2b115ba9af0>"
      ]
     },
     "execution_count": 74,
     "metadata": {},
     "output_type": "execute_result"
    },
    {
     "data": {
      "image/png": "[encoded data removed]",
      "text/plain": [
       "<Figure size 360x360 with 1 Axes>"
      ]
     },
     "metadata": {
      "needs_background": "light"
     },
     "output_type": "display_data"
    }
   ],
   "source": [
    "sns.displot(lr_residuals, kind='kde')"
   ]
  },
  {
   "cell_type": "code",
   "execution_count": 75,
   "id": "418be551",
   "metadata": {},
   "outputs": [
    {
     "name": "stdout",
     "output_type": "stream",
     "text": [
      "MSE: 30630632.661600538\n",
      "MAE: 3854.9126342703134\n",
      "5534.494797323468\n"
     ]
    }
   ],
   "source": [
    "# Evaluation of performance of Linear Regression model\n",
    "MSE = mean_squared_error(ytest, lr_pred) \n",
    "print(\"MSE:\",MSE)\n",
    "\n",
    "MAE = mean_absolute_error(ytest, lr_pred) \n",
    "print(\"MAE:\",MAE)\n",
    "\n",
    "print(np.sqrt(mean_squared_error(ytest, lr_pred)))"
   ]
  },
  {
   "cell_type": "code",
   "execution_count": 76,
   "id": "deb31208",
   "metadata": {},
   "outputs": [
    {
     "name": "stdout",
     "output_type": "stream",
     "text": [
      "R_Score: 0.802264853714528\n"
     ]
    }
   ],
   "source": [
    "# calculating R2 score\n",
    "R_Score = r2_score(ytest, lr_pred) \n",
    "print(\"R_Score:\",R_Score)"
   ]
  },
  {
   "cell_type": "markdown",
   "id": "bd3c817e",
   "metadata": {},
   "source": [
    "# Decision Tree Regression"
   ]
  },
  {
   "cell_type": "code",
   "execution_count": 77,
   "id": "06bf39ee",
   "metadata": {},
   "outputs": [
    {
     "data": {
      "text/plain": [
       "array([ 7789.6,  1880.1, 13041.9,  1728.9, 20781.5, 18608.3,  9877.6,\n",
       "       35491.6,  2254.8, 46113.5, 41919.1, 12643.4,  6067.1, 17560.4,\n",
       "        2855.4,  8125.8, 22493.7, 24667.4, 17361.8, 14410.9,  6338.1,\n",
       "       43753.3, 13047.3, 11082.6,  9872.7,  6313.8, 12914. ,  4040.6,\n",
       "       11566.3,  3238.4, 10928.8,  7153.6, 14133. , 11488.3, 10422.9,\n",
       "       36307.8, 42211.1,  7345.7, 10118.4,  4894.8,  8252.3, 12925.9,\n",
       "       18218.2,  7173.4, 29141.4, 46889.3,  5920.1,  5397.6, 21223.7,\n",
       "       24513.1,  4738.3,  7133.9, 13981.8,  6196.4, 43254.4, 11264.5,\n",
       "        9964.1,  4133.6,  8252.3, 12363.6, 15230.3,  8604.5, 13047.3,\n",
       "       10269.5,  2681. , 10959.7,  4719.7, 23045.6, 32734.2,  6571. ,\n",
       "       23065.4, 13635.6, 12523.6, 39125.3,  6571. , 17626.2, 48970.2,\n",
       "       17469. , 26125.7, 13429. ,  2690.1, 15170.1,  6571. ,  3260.2,\n",
       "        4032.2,  8428.1, 18955.2,  9704.7,  3353.3,  1252.4,  3757.8,\n",
       "        7954.5,  7173.4,  2362.2,  5976.8, 23306.6,  4058.7,  8604.5,\n",
       "       16657.7,  5354.1, 12914. ,  8688.9, 40103.9,  6282.2,  5966.9,\n",
       "       16586.5,  8059.7, 11881.4, 19673.3,  4922.9,  4518.8,  1704.6,\n",
       "       12235.8, 13012.2,  2102.3,  8125.8, 16586.5, 14426.1,  3847.7,\n",
       "        1242.3, 12648.7,  2362.2,  7243.8, 17626.2, 46255.1,  9964.1,\n",
       "       42983.5,  1969.6,  3704.4, 13415. ,  5266.4,  8442.7,  8516.8,\n",
       "       19539.2,  5031.3, 38511.6,  7624.6,  4454.4,  6282.2, 27375.9,\n",
       "       10594.2, 11396.9,  7345.7, 12925.9, 14426.1,  7173.4, 10825.2,\n",
       "       30166.6, 33750.3,  6361. , 13974.5,  4922.9, 35585.6,  2755. ,\n",
       "       21984.5, 44202.6, 23306.6,  9991. , 17178.7, 19144.6,  8442.7,\n",
       "       11070.5,  7935.3,  3070.8,  4415.2, 10264.4,  8125.8, 22144. ,\n",
       "       10118.4,  3268.8,  3558.6, 13012.2, 13228.8, 42969.8, 23306.6,\n",
       "        6406.4,  8688.9, 38344.6,  1622.2, 10494. ,  4058.7,  6282.2,\n",
       "       11073.2, 13224.1, 46599.1,  2464.6,  9500.6, 41661.6, 28468.9,\n",
       "       13974.5, 39047.3, 11455.3, 11070.5,  8824. , 11187.7, 39871.7,\n",
       "        5002.8, 47496.5,  1977.8, 37829.7, 14692.7, 35491.6, 19214.7,\n",
       "        5584.3, 17361.8, 25656.6, 10602.4,  4357. , 35595.6, 19199.9,\n",
       "        2755. ,  4618.1, 10264.4, 40273.6,  5253.5,  2913.6, 10269.5,\n",
       "       35585.6, 46889.3,  1615.8, 40182.2, 15019.8, 39556.5,  4454.4,\n",
       "       21232.2,  4564.2,  1704.6,  2727.4,  3906.1, 16586.5,  4889. ,\n",
       "       17878.9,  3579.8,  5257.5,  7133.9, 20878.8,  1135.9, 12925.9,\n",
       "       46255.1, 35595.6,  8825.1,  2404.7,  5266.4,  3693.4, 13429. ,\n",
       "       15170.1, 22493.7, 18806.2, 10231.5, 12431. ,  3260.2,  4837.6,\n",
       "       35147.5,  9964.1,  4795.7, 13616.4, 15161.5, 17352.7, 14590.6,\n",
       "       11033.7, 15359.1, 19496.7,  1725.6,  1252.4, 13919.8, 15612.2,\n",
       "       35585.6, 11264.5])"
      ]
     },
     "execution_count": 77,
     "metadata": {},
     "output_type": "execute_result"
    }
   ],
   "source": [
    "dt = DecisionTreeRegressor()\n",
    "dt.fit(xtrain,ytrain)\n",
    "dt_pred = dt.predict(xtest)\n",
    "dt_pred"
   ]
  },
  {
   "cell_type": "code",
   "execution_count": 78,
   "id": "c1e2669f",
   "metadata": {},
   "outputs": [
    {
     "data": {
      "text/plain": [
       "<matplotlib.collections.PathCollection at 0x2b11771f520>"
      ]
     },
     "execution_count": 78,
     "metadata": {},
     "output_type": "execute_result"
    },
    {
     "data": {
      "image/png": "[encoded data removed]",
      "text/plain": [
       "<Figure size 432x288 with 1 Axes>"
      ]
     },
     "metadata": {
      "needs_background": "light"
     },
     "output_type": "display_data"
    }
   ],
   "source": [
    "plt.scatter(ytest,dt_pred)"
   ]
  },
  {
   "cell_type": "code",
   "execution_count": 79,
   "id": "0a4d9361",
   "metadata": {},
   "outputs": [
    {
     "data": {
      "text/plain": [
       "1106     1198.6\n",
       "1268        0.4\n",
       "287      1214.3\n",
       "232        -1.1\n",
       "849    -10179.9\n",
       "         ...   \n",
       "495       714.6\n",
       "278      -991.0\n",
       "1012    20968.1\n",
       "203      1548.3\n",
       "1018     1230.8\n",
       "Name: expenses, Length: 268, dtype: float64"
      ]
     },
     "execution_count": 79,
     "metadata": {},
     "output_type": "execute_result"
    }
   ],
   "source": [
    "dt_residuals = ytest - dt_pred\n",
    "dt_residuals"
   ]
  },
  {
   "cell_type": "code",
   "execution_count": 80,
   "id": "86b6693d",
   "metadata": {},
   "outputs": [
    {
     "data": {
      "text/plain": [
       "<seaborn.axisgrid.FacetGrid at 0x2b116d0be80>"
      ]
     },
     "execution_count": 80,
     "metadata": {},
     "output_type": "execute_result"
    },
    {
     "data": {
      "image/png": "[encoded data removed]",
      "text/plain": [
       "<Figure size 360x360 with 1 Axes>"
      ]
     },
     "metadata": {
      "needs_background": "light"
     },
     "output_type": "display_data"
    }
   ],
   "source": [
    "sns.displot(dt_residuals, kind='kde')"
   ]
  },
  {
   "cell_type": "code",
   "execution_count": 81,
   "id": "c5704863",
   "metadata": {},
   "outputs": [
    {
     "name": "stdout",
     "output_type": "stream",
     "text": [
      "MSE: 36019451.30757463\n",
      "MAE: 2986.9817164179103\n",
      "6001.620723402523\n"
     ]
    }
   ],
   "source": [
    "# Evaluation of performance of Decision Tree Regression model\n",
    "dt_MSE = mean_squared_error(ytest, dt_pred) \n",
    "print(\"MSE:\",dt_MSE)\n",
    "\n",
    "dt_MAE = mean_absolute_error(ytest, dt_pred) \n",
    "print(\"MAE:\",dt_MAE)\n",
    "\n",
    "print(np.sqrt(mean_squared_error(ytest, dt_pred)))"
   ]
  },
  {
   "cell_type": "code",
   "execution_count": 82,
   "id": "9699226e",
   "metadata": {},
   "outputs": [
    {
     "name": "stdout",
     "output_type": "stream",
     "text": [
      "R_Score: 0.7674774937850225\n"
     ]
    }
   ],
   "source": [
    "# calculating R2 score\n",
    "Score = r2_score(ytest, dt_pred) \n",
    "print(\"R_Score:\",Score)"
   ]
  },
  {
   "cell_type": "markdown",
   "id": "3c668ca6",
   "metadata": {},
   "source": [
    "# Random Forest Regressor"
   ]
  },
  {
   "cell_type": "code",
   "execution_count": 83,
   "id": "ae982eab",
   "metadata": {},
   "outputs": [
    {
     "data": {
      "text/plain": [
       "array([ 9097.628     ,  4446.647     , 14952.23      ,  2358.707     ,\n",
       "       13849.835     , 18862.503     ,  9984.664     , 39756.935     ,\n",
       "        3119.776     , 46345.873     , 41828.984     , 12568.557     ,\n",
       "        6149.568     , 17620.131     ,  7333.875     ,  9449.355     ,\n",
       "       10737.272     , 23907.205     , 19347.946     , 14282.878     ,\n",
       "        7484.923     , 44815.651     , 13633.14      , 14995.28      ,\n",
       "       11607.186     ,  6871.087     , 13755.058     ,  9252.048     ,\n",
       "       11682.71      ,  7414.172     , 11466.787     ,  7857.162     ,\n",
       "       10980.51      , 14687.33      , 12039.488     , 39398.062     ,\n",
       "       43509.099     , 10033.771     ,  9663.208     ,  4991.611     ,\n",
       "        7972.69      , 16379.86      ,  7926.636     ,  7670.638     ,\n",
       "       29207.849     , 45908.988     ,  6667.628     ,  5878.36      ,\n",
       "       23270.839     , 19116.28066667,  7945.935     ,  6962.74      ,\n",
       "       13903.2801    ,  7491.482     , 45675.55      , 12765.71      ,\n",
       "       16827.555     ,  7104.005     ,  7641.094     , 15007.951     ,\n",
       "       21492.32      ,  8801.328     , 14863.123     ,  8871.109     ,\n",
       "        5385.282     , 10641.942     ,  5220.94      , 18157.181     ,\n",
       "       20507.154     ,  6667.266     , 23878.556     , 13188.32966667,\n",
       "       13295.453     , 41400.444     ,  7210.766     ,  6297.868     ,\n",
       "       48817.754     , 17750.827     , 19425.504     , 13638.91816667,\n",
       "        3688.223     , 16693.109     ,  6930.673     ,  4141.251     ,\n",
       "        5461.61      ,  9105.435     , 10547.844     ,  9593.168     ,\n",
       "        3426.301     ,  1445.049     ,  3749.858     ,  8042.746     ,\n",
       "        8165.269     , 10261.395     ,  5883.448     , 23722.704     ,\n",
       "        6460.251     , 10236.039     , 17267.754     ,  5581.362     ,\n",
       "       16730.606     ,  9931.433     , 39881.004     ,  6600.107     ,\n",
       "        6038.523     ,  4732.796     ,  7918.492     , 12409.154     ,\n",
       "        2611.69683333,  7035.677     ,  6743.992     ,  1708.26      ,\n",
       "       12312.632     , 13339.734     ,  1723.749     ,  9613.764     ,\n",
       "        7992.00166667,  4995.641     ,  5153.849     ,  1275.245     ,\n",
       "       12778.751     ,  5033.606     ,  6839.207     ,  7119.191     ,\n",
       "       48573.683     , 10126.177     , 44676.302     ,  4681.589     ,\n",
       "        6441.578     , 13445.479     ,  5261.892     , 13469.358     ,\n",
       "       11389.44      , 20251.601     ,  6103.088     , 38186.36      ,\n",
       "        7762.541     ,  4231.973     ,  6459.196     ,  7694.529     ,\n",
       "       11388.235     , 17882.324     ,  9499.137     , 18601.622     ,\n",
       "        5169.68      ,  7868.285     , 11501.044     , 21459.236     ,\n",
       "       34370.24      , 12661.222     , 13759.427     ,  6890.274     ,\n",
       "       37325.618     ,  2734.279     ,  8675.814     , 44184.115     ,\n",
       "       23419.318     , 17598.858     , 17206.835     , 11348.928     ,\n",
       "       12842.882     , 12796.135     ,  7789.715     ,  2547.625     ,\n",
       "        5560.444     , 12424.593     ,  9118.21      , 25474.806     ,\n",
       "       11338.26      ,  2768.644     ,  3564.162     , 13644.867     ,\n",
       "       12900.181     , 43676.745     , 23439.312     ,  6798.14      ,\n",
       "       10232.151     , 37141.11      ,  2036.854     , 10194.969     ,\n",
       "        6543.563     ,  6322.598     , 12243.779     , 13168.816     ,\n",
       "       46587.006     ,  5146.94      ,  9253.367     , 40977.273     ,\n",
       "       16387.176     , 13916.235     , 39246.189     , 11905.037     ,\n",
       "       13294.069     ,  8535.425     , 17774.256     , 39940.612     ,\n",
       "        5199.958     , 47897.069     ,  2893.526     , 25398.992     ,\n",
       "       14402.557     , 40517.236     , 11351.397     ,  5987.637     ,\n",
       "       19232.399     , 14113.698     , 11474.639     ,  4272.789     ,\n",
       "       35010.771     , 18304.1       ,  2990.40733333,  5725.85      ,\n",
       "       10184.612     , 41133.69      ,  5397.978     ,  7583.358     ,\n",
       "        9848.383     , 38235.344     , 47785.462     ,  1917.187     ,\n",
       "       39424.659     , 14735.967     , 39813.845     ,  4833.883     ,\n",
       "       11403.977     ,  6305.456     ,  1708.294     ,  3703.681     ,\n",
       "        5178.323     ,  3785.499     ,  5117.703     ,  5802.44133333,\n",
       "        7022.807     ,  7503.257     ,  9698.727     , 11321.188     ,\n",
       "        5601.074     , 16455.016     , 47316.304     , 35403.236     ,\n",
       "        8963.924     ,  2656.074     ,  5367.877     ,  5882.219     ,\n",
       "       13718.21716667, 18166.322     , 11028.81      , 13888.791     ,\n",
       "       11969.101     , 11981.492     ,  4109.783     ,  5646.749     ,\n",
       "       28329.577     , 12885.88      ,  5511.137     , 15466.869     ,\n",
       "       16848.012     , 19289.271     , 18097.421     , 10951.207     ,\n",
       "       18815.387     , 10189.461     ,  6267.936     ,  1967.952     ,\n",
       "       14601.062     , 16600.004     , 36687.084     , 13203.973     ])"
      ]
     },
     "execution_count": 83,
     "metadata": {},
     "output_type": "execute_result"
    }
   ],
   "source": [
    "rfr = RandomForestRegressor()\n",
    "rfr.fit(xtrain,ytrain)\n",
    "rfr_pred = rfr.predict(xtest)\n",
    "rfr_pred"
   ]
  },
  {
   "cell_type": "code",
   "execution_count": 84,
   "id": "9c1b60e7",
   "metadata": {},
   "outputs": [
    {
     "data": {
      "text/plain": [
       "<matplotlib.collections.PathCollection at 0x2b115ab6d30>"
      ]
     },
     "execution_count": 84,
     "metadata": {},
     "output_type": "execute_result"
    },
    {
     "data": {
      "image/png": "[encoded data removed]",
      "text/plain": [
       "<Figure size 432x288 with 1 Axes>"
      ]
     },
     "metadata": {
      "needs_background": "light"
     },
     "output_type": "display_data"
    }
   ],
   "source": [
    "plt.scatter(ytest,rfr_pred)"
   ]
  },
  {
   "cell_type": "code",
   "execution_count": 85,
   "id": "6e9761e0",
   "metadata": {},
   "outputs": [
    {
     "data": {
      "text/plain": [
       "1106     -109.428\n",
       "1268    -2566.147\n",
       "287      -696.030\n",
       "232      -630.907\n",
       "849     -3248.235\n",
       "          ...    \n",
       "495        -0.952\n",
       "278     -1672.262\n",
       "1012    19980.296\n",
       "203       446.816\n",
       "1018     -708.673\n",
       "Name: expenses, Length: 268, dtype: float64"
      ]
     },
     "execution_count": 85,
     "metadata": {},
     "output_type": "execute_result"
    }
   ],
   "source": [
    "rfr_residuals = ytest - rfr_pred\n",
    "rfr_residuals"
   ]
  },
  {
   "cell_type": "code",
   "execution_count": 86,
   "id": "cc666cdd",
   "metadata": {},
   "outputs": [
    {
     "data": {
      "text/plain": [
       "<seaborn.axisgrid.FacetGrid at 0x2b1177b0850>"
      ]
     },
     "execution_count": 86,
     "metadata": {},
     "output_type": "execute_result"
    },
    {
     "data": {
      "image/png": "[encoded data removed]",
      "text/plain": [
       "<Figure size 360x360 with 1 Axes>"
      ]
     },
     "metadata": {
      "needs_background": "light"
     },
     "output_type": "display_data"
    }
   ],
   "source": [
    "sns.displot(rfr_residuals, kind='kde')"
   ]
  },
  {
   "cell_type": "code",
   "execution_count": 87,
   "id": "6bacd794",
   "metadata": {},
   "outputs": [
    {
     "name": "stdout",
     "output_type": "stream",
     "text": [
      "MSE: 16406882.581928805\n",
      "MAE: 2364.2984686567165\n",
      "4050.541023360806\n"
     ]
    }
   ],
   "source": [
    "# Evaluation of performance of Random Forest Regression model\n",
    "mse = mean_squared_error(ytest, rfr_pred) \n",
    "print(\"MSE:\",mse)\n",
    "\n",
    "mae = mean_absolute_error(ytest, rfr_pred) \n",
    "print(\"MAE:\",mae)\n",
    "\n",
    "print(np.sqrt(mean_squared_error(ytest, rfr_pred)))"
   ]
  },
  {
   "cell_type": "code",
   "execution_count": 88,
   "id": "3fc83a6e",
   "metadata": {},
   "outputs": [
    {
     "name": "stdout",
     "output_type": "stream",
     "text": [
      "R_Score: 0.8940858530978597\n"
     ]
    }
   ],
   "source": [
    "# calculating R2 score\n",
    "RScore = r2_score(ytest, rfr_pred) \n",
    "print(\"R_Score:\",RScore)"
   ]
  },
  {
   "cell_type": "markdown",
   "id": "67fdbbec",
   "metadata": {},
   "source": [
    "Final Observation:\n",
    "\n",
    "Based on the R2 score, the Random Forest Regression model performed better which has an R2 score value of 0.89. So we will consider the Random Forest Regression algorithm for insurance prediction."
   ]
  },
  {
   "cell_type": "code",
   "execution_count": null,
   "id": "656aafa0",
   "metadata": {},
   "outputs": [],
   "source": []
  }
 ],
 "metadata": {
  "kernelspec": {
   "display_name": "Python 3 (ipykernel)",
   "language": "python",
   "name": "python3"
  },
  "language_info": {
   "codemirror_mode": {
    "name": "ipython",
    "version": 3
   },
   "file_extension": ".py",
   "mimetype": "text/x-python",
   "name": "python",
   "nbconvert_exporter": "python",
   "pygments_lexer": "ipython3",
   "version": "3.9.12"
  }
 },
 "nbformat": 4,
 "nbformat_minor": 5
}
